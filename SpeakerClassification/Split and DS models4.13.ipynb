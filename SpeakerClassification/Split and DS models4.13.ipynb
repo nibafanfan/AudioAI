{
 "cells": [
  {
   "cell_type": "markdown",
   "id": "5b2bf0ed-0b04-4163-8757-f610c8751e94",
   "metadata": {},
   "source": [
    "# 1. Introduction\n",
    "\n",
    "This [dataset](https://archive.ics.uci.edu/ml/datasets/Heart+Disease) contain medical information of patients that can be used to predict if a patinet is more likely to have heart problem or not. We explore the dataset and classify the target variable using three different classifiers (LDA, QDA, and decision tree) to findout which algorithm is more suitable for this dataset.\n"
   ]
  },
  {
   "cell_type": "markdown",
   "id": "168310f6-1543-43eb-b353-eca49eb15820",
   "metadata": {},
   "source": [
    "# 2. Reading the Data\n",
    "\n",
    "Read the heart.csv file using pandas."
   ]
  },
  {
   "cell_type": "code",
   "execution_count": 11,
   "id": "527ce1be-41e3-49fa-a643-e7e6646df3df",
   "metadata": {},
   "outputs": [
    {
     "data": {
      "text/html": [
       "<div>\n",
       "<style scoped>\n",
       "    .dataframe tbody tr th:only-of-type {\n",
       "        vertical-align: middle;\n",
       "    }\n",
       "\n",
       "    .dataframe tbody tr th {\n",
       "        vertical-align: top;\n",
       "    }\n",
       "\n",
       "    .dataframe thead th {\n",
       "        text-align: right;\n",
       "    }\n",
       "</style>\n",
       "<table border=\"1\" class=\"dataframe\">\n",
       "  <thead>\n",
       "    <tr style=\"text-align: right;\">\n",
       "      <th></th>\n",
       "      <th>length</th>\n",
       "      <th>mean(absx)</th>\n",
       "      <th>var(absx)</th>\n",
       "      <th>.05 perc of np.log(xabsposmin+np.abs(x))</th>\n",
       "      <th>.1</th>\n",
       "      <th>.15</th>\n",
       "      <th>.2</th>\n",
       "      <th>.25</th>\n",
       "      <th>.3</th>\n",
       "      <th>.35</th>\n",
       "      <th>...</th>\n",
       "      <th>93ftrm</th>\n",
       "      <th>94ftrm</th>\n",
       "      <th>95ftrm</th>\n",
       "      <th>96ftrm</th>\n",
       "      <th>97ftrm</th>\n",
       "      <th>98ftrm</th>\n",
       "      <th>99ftrm</th>\n",
       "      <th>100ftrm</th>\n",
       "      <th>y</th>\n",
       "      <th>y2</th>\n",
       "    </tr>\n",
       "  </thead>\n",
       "  <tbody>\n",
       "    <tr>\n",
       "      <th>0</th>\n",
       "      <td>49229</td>\n",
       "      <td>0.115520</td>\n",
       "      <td>0.019734</td>\n",
       "      <td>-6.408223</td>\n",
       "      <td>-5.506858</td>\n",
       "      <td>-4.891065</td>\n",
       "      <td>-4.428500</td>\n",
       "      <td>-4.034179</td>\n",
       "      <td>-3.716353</td>\n",
       "      <td>-3.455051</td>\n",
       "      <td>...</td>\n",
       "      <td>0.001256</td>\n",
       "      <td>0.001132</td>\n",
       "      <td>0.001096</td>\n",
       "      <td>0.001114</td>\n",
       "      <td>0.001159</td>\n",
       "      <td>0.001090</td>\n",
       "      <td>0.001093</td>\n",
       "      <td>0.001048</td>\n",
       "      <td>0.0</td>\n",
       "      <td>0.0</td>\n",
       "    </tr>\n",
       "    <tr>\n",
       "      <th>1</th>\n",
       "      <td>52616</td>\n",
       "      <td>0.099569</td>\n",
       "      <td>0.017016</td>\n",
       "      <td>-6.869160</td>\n",
       "      <td>-6.119745</td>\n",
       "      <td>-5.626037</td>\n",
       "      <td>-5.160460</td>\n",
       "      <td>-4.693234</td>\n",
       "      <td>-4.263685</td>\n",
       "      <td>-3.929420</td>\n",
       "      <td>...</td>\n",
       "      <td>0.000796</td>\n",
       "      <td>0.000863</td>\n",
       "      <td>0.000929</td>\n",
       "      <td>0.000940</td>\n",
       "      <td>0.000988</td>\n",
       "      <td>0.001006</td>\n",
       "      <td>0.000955</td>\n",
       "      <td>0.000905</td>\n",
       "      <td>0.0</td>\n",
       "      <td>0.0</td>\n",
       "    </tr>\n",
       "    <tr>\n",
       "      <th>2</th>\n",
       "      <td>54045</td>\n",
       "      <td>0.119582</td>\n",
       "      <td>0.020011</td>\n",
       "      <td>-6.479150</td>\n",
       "      <td>-5.759545</td>\n",
       "      <td>-5.289430</td>\n",
       "      <td>-4.862623</td>\n",
       "      <td>-4.458873</td>\n",
       "      <td>-4.049289</td>\n",
       "      <td>-3.709722</td>\n",
       "      <td>...</td>\n",
       "      <td>0.001166</td>\n",
       "      <td>0.001105</td>\n",
       "      <td>0.001088</td>\n",
       "      <td>0.001057</td>\n",
       "      <td>0.001049</td>\n",
       "      <td>0.000929</td>\n",
       "      <td>0.000870</td>\n",
       "      <td>0.000836</td>\n",
       "      <td>0.0</td>\n",
       "      <td>0.0</td>\n",
       "    </tr>\n",
       "    <tr>\n",
       "      <th>3</th>\n",
       "      <td>54298</td>\n",
       "      <td>0.093124</td>\n",
       "      <td>0.016129</td>\n",
       "      <td>-6.589181</td>\n",
       "      <td>-5.842684</td>\n",
       "      <td>-5.372923</td>\n",
       "      <td>-4.954524</td>\n",
       "      <td>-4.585883</td>\n",
       "      <td>-4.259348</td>\n",
       "      <td>-3.940342</td>\n",
       "      <td>...</td>\n",
       "      <td>0.001051</td>\n",
       "      <td>0.001015</td>\n",
       "      <td>0.000985</td>\n",
       "      <td>0.001049</td>\n",
       "      <td>0.001075</td>\n",
       "      <td>0.001095</td>\n",
       "      <td>0.001096</td>\n",
       "      <td>0.001064</td>\n",
       "      <td>0.0</td>\n",
       "      <td>0.0</td>\n",
       "    </tr>\n",
       "    <tr>\n",
       "      <th>4</th>\n",
       "      <td>50604</td>\n",
       "      <td>0.093275</td>\n",
       "      <td>0.015164</td>\n",
       "      <td>-7.216206</td>\n",
       "      <td>-6.463994</td>\n",
       "      <td>-5.965548</td>\n",
       "      <td>-5.426903</td>\n",
       "      <td>-4.843974</td>\n",
       "      <td>-4.314827</td>\n",
       "      <td>-3.946625</td>\n",
       "      <td>...</td>\n",
       "      <td>0.000622</td>\n",
       "      <td>0.000712</td>\n",
       "      <td>0.000784</td>\n",
       "      <td>0.000842</td>\n",
       "      <td>0.000842</td>\n",
       "      <td>0.000786</td>\n",
       "      <td>0.000715</td>\n",
       "      <td>0.000696</td>\n",
       "      <td>0.0</td>\n",
       "      <td>0.0</td>\n",
       "    </tr>\n",
       "    <tr>\n",
       "      <th>...</th>\n",
       "      <td>...</td>\n",
       "      <td>...</td>\n",
       "      <td>...</td>\n",
       "      <td>...</td>\n",
       "      <td>...</td>\n",
       "      <td>...</td>\n",
       "      <td>...</td>\n",
       "      <td>...</td>\n",
       "      <td>...</td>\n",
       "      <td>...</td>\n",
       "      <td>...</td>\n",
       "      <td>...</td>\n",
       "      <td>...</td>\n",
       "      <td>...</td>\n",
       "      <td>...</td>\n",
       "      <td>...</td>\n",
       "      <td>...</td>\n",
       "      <td>...</td>\n",
       "      <td>...</td>\n",
       "      <td>...</td>\n",
       "      <td>...</td>\n",
       "    </tr>\n",
       "    <tr>\n",
       "      <th>670</th>\n",
       "      <td>38994</td>\n",
       "      <td>0.108123</td>\n",
       "      <td>0.019588</td>\n",
       "      <td>-6.655378</td>\n",
       "      <td>-5.976260</td>\n",
       "      <td>-5.405585</td>\n",
       "      <td>-4.871058</td>\n",
       "      <td>-4.443510</td>\n",
       "      <td>-4.125888</td>\n",
       "      <td>-3.827481</td>\n",
       "      <td>...</td>\n",
       "      <td>0.002444</td>\n",
       "      <td>0.002397</td>\n",
       "      <td>0.002178</td>\n",
       "      <td>0.002095</td>\n",
       "      <td>0.002046</td>\n",
       "      <td>0.002040</td>\n",
       "      <td>0.002042</td>\n",
       "      <td>0.002141</td>\n",
       "      <td>14.0</td>\n",
       "      <td>8.0</td>\n",
       "    </tr>\n",
       "    <tr>\n",
       "      <th>671</th>\n",
       "      <td>42623</td>\n",
       "      <td>0.113282</td>\n",
       "      <td>0.021810</td>\n",
       "      <td>-6.956019</td>\n",
       "      <td>-6.282668</td>\n",
       "      <td>-5.760306</td>\n",
       "      <td>-5.186498</td>\n",
       "      <td>-4.692679</td>\n",
       "      <td>-4.307655</td>\n",
       "      <td>-3.936953</td>\n",
       "      <td>...</td>\n",
       "      <td>0.002712</td>\n",
       "      <td>0.002600</td>\n",
       "      <td>0.002692</td>\n",
       "      <td>0.002470</td>\n",
       "      <td>0.002357</td>\n",
       "      <td>0.002254</td>\n",
       "      <td>0.002191</td>\n",
       "      <td>0.002204</td>\n",
       "      <td>14.0</td>\n",
       "      <td>8.0</td>\n",
       "    </tr>\n",
       "    <tr>\n",
       "      <th>672</th>\n",
       "      <td>39657</td>\n",
       "      <td>0.100764</td>\n",
       "      <td>0.016750</td>\n",
       "      <td>-6.930506</td>\n",
       "      <td>-6.079307</td>\n",
       "      <td>-5.360054</td>\n",
       "      <td>-4.863696</td>\n",
       "      <td>-4.443884</td>\n",
       "      <td>-4.046617</td>\n",
       "      <td>-3.696439</td>\n",
       "      <td>...</td>\n",
       "      <td>0.002968</td>\n",
       "      <td>0.002853</td>\n",
       "      <td>0.002826</td>\n",
       "      <td>0.002837</td>\n",
       "      <td>0.002779</td>\n",
       "      <td>0.002640</td>\n",
       "      <td>0.002640</td>\n",
       "      <td>0.002573</td>\n",
       "      <td>14.0</td>\n",
       "      <td>8.0</td>\n",
       "    </tr>\n",
       "    <tr>\n",
       "      <th>673</th>\n",
       "      <td>54251</td>\n",
       "      <td>0.085553</td>\n",
       "      <td>0.017477</td>\n",
       "      <td>-7.974899</td>\n",
       "      <td>-7.339823</td>\n",
       "      <td>-6.954489</td>\n",
       "      <td>-6.606859</td>\n",
       "      <td>-6.315073</td>\n",
       "      <td>-6.011789</td>\n",
       "      <td>-5.566722</td>\n",
       "      <td>...</td>\n",
       "      <td>0.002695</td>\n",
       "      <td>0.002639</td>\n",
       "      <td>0.002419</td>\n",
       "      <td>0.002154</td>\n",
       "      <td>0.002050</td>\n",
       "      <td>0.002011</td>\n",
       "      <td>0.001977</td>\n",
       "      <td>0.002013</td>\n",
       "      <td>14.0</td>\n",
       "      <td>8.0</td>\n",
       "    </tr>\n",
       "    <tr>\n",
       "      <th>674</th>\n",
       "      <td>42243</td>\n",
       "      <td>0.101428</td>\n",
       "      <td>0.019090</td>\n",
       "      <td>-7.256270</td>\n",
       "      <td>-6.523395</td>\n",
       "      <td>-6.026172</td>\n",
       "      <td>-5.567890</td>\n",
       "      <td>-5.098263</td>\n",
       "      <td>-4.573790</td>\n",
       "      <td>-4.122209</td>\n",
       "      <td>...</td>\n",
       "      <td>0.002245</td>\n",
       "      <td>0.002139</td>\n",
       "      <td>0.002190</td>\n",
       "      <td>0.002023</td>\n",
       "      <td>0.002070</td>\n",
       "      <td>0.002041</td>\n",
       "      <td>0.001942</td>\n",
       "      <td>0.001897</td>\n",
       "      <td>14.0</td>\n",
       "      <td>8.0</td>\n",
       "    </tr>\n",
       "  </tbody>\n",
       "</table>\n",
       "<p>675 rows × 245 columns</p>\n",
       "</div>"
      ],
      "text/plain": [
       "     length  mean(absx)  var(absx)  .05 perc of np.log(xabsposmin+np.abs(x))  \\\n",
       "0     49229    0.115520   0.019734                                 -6.408223   \n",
       "1     52616    0.099569   0.017016                                 -6.869160   \n",
       "2     54045    0.119582   0.020011                                 -6.479150   \n",
       "3     54298    0.093124   0.016129                                 -6.589181   \n",
       "4     50604    0.093275   0.015164                                 -7.216206   \n",
       "..      ...         ...        ...                                       ...   \n",
       "670   38994    0.108123   0.019588                                 -6.655378   \n",
       "671   42623    0.113282   0.021810                                 -6.956019   \n",
       "672   39657    0.100764   0.016750                                 -6.930506   \n",
       "673   54251    0.085553   0.017477                                 -7.974899   \n",
       "674   42243    0.101428   0.019090                                 -7.256270   \n",
       "\n",
       "           .1       .15        .2       .25        .3       .35  ...  \\\n",
       "0   -5.506858 -4.891065 -4.428500 -4.034179 -3.716353 -3.455051  ...   \n",
       "1   -6.119745 -5.626037 -5.160460 -4.693234 -4.263685 -3.929420  ...   \n",
       "2   -5.759545 -5.289430 -4.862623 -4.458873 -4.049289 -3.709722  ...   \n",
       "3   -5.842684 -5.372923 -4.954524 -4.585883 -4.259348 -3.940342  ...   \n",
       "4   -6.463994 -5.965548 -5.426903 -4.843974 -4.314827 -3.946625  ...   \n",
       "..        ...       ...       ...       ...       ...       ...  ...   \n",
       "670 -5.976260 -5.405585 -4.871058 -4.443510 -4.125888 -3.827481  ...   \n",
       "671 -6.282668 -5.760306 -5.186498 -4.692679 -4.307655 -3.936953  ...   \n",
       "672 -6.079307 -5.360054 -4.863696 -4.443884 -4.046617 -3.696439  ...   \n",
       "673 -7.339823 -6.954489 -6.606859 -6.315073 -6.011789 -5.566722  ...   \n",
       "674 -6.523395 -6.026172 -5.567890 -5.098263 -4.573790 -4.122209  ...   \n",
       "\n",
       "       93ftrm    94ftrm    95ftrm    96ftrm    97ftrm    98ftrm    99ftrm  \\\n",
       "0    0.001256  0.001132  0.001096  0.001114  0.001159  0.001090  0.001093   \n",
       "1    0.000796  0.000863  0.000929  0.000940  0.000988  0.001006  0.000955   \n",
       "2    0.001166  0.001105  0.001088  0.001057  0.001049  0.000929  0.000870   \n",
       "3    0.001051  0.001015  0.000985  0.001049  0.001075  0.001095  0.001096   \n",
       "4    0.000622  0.000712  0.000784  0.000842  0.000842  0.000786  0.000715   \n",
       "..        ...       ...       ...       ...       ...       ...       ...   \n",
       "670  0.002444  0.002397  0.002178  0.002095  0.002046  0.002040  0.002042   \n",
       "671  0.002712  0.002600  0.002692  0.002470  0.002357  0.002254  0.002191   \n",
       "672  0.002968  0.002853  0.002826  0.002837  0.002779  0.002640  0.002640   \n",
       "673  0.002695  0.002639  0.002419  0.002154  0.002050  0.002011  0.001977   \n",
       "674  0.002245  0.002139  0.002190  0.002023  0.002070  0.002041  0.001942   \n",
       "\n",
       "      100ftrm     y   y2  \n",
       "0    0.001048   0.0  0.0  \n",
       "1    0.000905   0.0  0.0  \n",
       "2    0.000836   0.0  0.0  \n",
       "3    0.001064   0.0  0.0  \n",
       "4    0.000696   0.0  0.0  \n",
       "..        ...   ...  ...  \n",
       "670  0.002141  14.0  8.0  \n",
       "671  0.002204  14.0  8.0  \n",
       "672  0.002573  14.0  8.0  \n",
       "673  0.002013  14.0  8.0  \n",
       "674  0.001897  14.0  8.0  \n",
       "\n",
       "[675 rows x 245 columns]"
      ]
     },
     "execution_count": 11,
     "metadata": {},
     "output_type": "execute_result"
    }
   ],
   "source": [
    "import pandas as pd\n",
    "import numpy as np\n",
    "#visualisation\n",
    "import matplotlib.pyplot as plt\n",
    "%matplotlib inline\n",
    "import seaborn as sns\n",
    "\n",
    "# Read the data \n",
    "data = pd.read_csv('out_y_y2_4_13.csv')\n",
    "data"
   ]
  },
  {
   "cell_type": "code",
   "execution_count": 12,
   "id": "3d0c7d60-f5f6-480f-8f07-d250de0f73e3",
   "metadata": {},
   "outputs": [],
   "source": [
    "# visualize data\n",
    "\n",
    "# parameters = data.columns\n",
    "\n",
    "# for item in parameters:\n",
    "    \n",
    "#     sns.histplot(data=data, x=item)\n",
    "#     plt.show()"
   ]
  },
  {
   "cell_type": "markdown",
   "id": "ab44ba38-47d1-43df-949e-e9b03d80f0b2",
   "metadata": {},
   "source": [
    "## 2.1 Generate training and test samples"
   ]
  },
  {
   "cell_type": "code",
   "execution_count": 13,
   "id": "6e845cb3",
   "metadata": {},
   "outputs": [
    {
     "data": {
      "text/plain": [
       "pandas.core.frame.DataFrame"
      ]
     },
     "execution_count": 13,
     "metadata": {},
     "output_type": "execute_result"
    }
   ],
   "source": [
    "type(data)\n"
   ]
  },
  {
   "cell_type": "code",
   "execution_count": 14,
   "id": "899d89a4",
   "metadata": {},
   "outputs": [],
   "source": [
    "\n",
    "# np.random.seed(5)\n",
    "# I=np.random.permutation(range(data.shape[0]))\n",
    "# data2=data.loc[I]\n",
    "# n=int(data2.shape[0]*.8)\n",
    "# data2train=data2.iloc[:n].copy()\n",
    "# data2test=data2.iloc[n:].copy()\n",
    "# data2test.index=range(data2test.shape[0])\n",
    "\n",
    "#y_pred"
   ]
  },
  {
   "cell_type": "code",
   "execution_count": 15,
   "id": "a12307f4",
   "metadata": {},
   "outputs": [],
   "source": [
    "# data splitting\n",
    "from sklearn.model_selection import train_test_split\n",
    "from sklearn.preprocessing import StandardScaler\n",
    "import numpy as np\n",
    "ydata=data['y']\n",
    "YT=data.loc[:,['y','y2']].copy()\n",
    "X_train_0, X_test_0, y_train, y_test =train_test_split(data, ydata, test_size=0.20, random_state = 609)\n",
    "X_train=X_train_0.drop(['y','y2'], axis=1)\n",
    "X_test=X_test_0.drop(['y','y2'], axis=1)\n",
    "y = X_test_0[\"y\"].astype('int')\n",
    "y2= X_test_0[\"y2\"].astype('int')\n",
    "\n",
    "#standarize\n",
    "sc = StandardScaler()\n",
    "X_train = sc.fit_transform(X_train)\n",
    "X_test = sc.transform (X_test)"
   ]
  },
  {
   "cell_type": "code",
   "execution_count": 16,
   "id": "67feda95",
   "metadata": {
    "scrolled": true
   },
   "outputs": [
    {
     "name": "stdout",
     "output_type": "stream",
     "text": [
      "[[ 3  0  0  0  0  0  0  0  1  0  0  0  0  0  0]\n",
      " [ 0 12  0  0  0  0  0  0  0  0  0  0  0  0  0]\n",
      " [ 0  0 16  0  0  0  0  0  0  0  1  0  0  0  0]\n",
      " [ 0  0  0  5  0  0  0  0  0  0  0  0  0  0  0]\n",
      " [ 0  0  0  0 11  0  0  0  0  0  0  0  0  0  0]\n",
      " [ 0  0  0  0  0  7  0  0  0  0  0  0  0  0  0]\n",
      " [ 0  0  0  1  2  0  7  0  0  0  0  0  0  0  0]\n",
      " [ 0  0  0  0  0  0  0  7  0  0  0  1  0  0  0]\n",
      " [ 0  0  0  1  0  0  0  0  5  0  0  0  0  0  0]\n",
      " [ 0  0  0  0  0  0  0  0  0  8  0  0  0  0  0]\n",
      " [ 0  0  0  0  0  0  0  0  0  0 10  0  0  0  0]\n",
      " [ 0  1  0  0  0  0  0  0  0  0  0  5  0  0  0]\n",
      " [ 0  0  0  0  0  0  0  0  0  0  0  0  7  0  0]\n",
      " [ 1  0  0  0  0  0  0  0  0  0  0  0  0 10  1]\n",
      " [ 0  0  0  0  0  0  0  0  0  0  0  0  0  0 12]]\n"
     ]
    }
   ],
   "source": [
    "from sklearn.tree import DecisionTreeClassifier\n",
    "from sklearn.preprocessing import LabelEncoder\n",
    "from sklearn.metrics import confusion_matrix,ConfusionMatrixDisplay\n",
    "le = LabelEncoder()\n",
    "y_train = le.fit_transform(y_train)\n",
    "from xgboost import XGBClassifier\n",
    "classifier = XGBClassifier()\n",
    "classifier.fit(X = X_train,y =  y_train)\n",
    "from sklearn.metrics import confusion_matrix, accuracy_score\n",
    "y_pred = classifier.predict(X_test)\n",
    "y_pred = le.inverse_transform(y_pred)\n",
    "cm = confusion_matrix(y_test, y_pred)\n",
    "print(cm)\n",
    "accuracy=accuracy_score(y_test, y_pred)\n",
    "disp = ConfusionMatrixDisplay(confusion_matrix=confusion_matrix,display_labels=classifier.classes_)\n",
    "# disp.plot()\n",
    "# plt.show()\n"
   ]
  },
  {
   "cell_type": "code",
   "execution_count": 17,
   "id": "a94cb3e6",
   "metadata": {},
   "outputs": [
    {
     "data": {
      "text/plain": [
       "0.9259259259259259"
      ]
     },
     "execution_count": 17,
     "metadata": {},
     "output_type": "execute_result"
    }
   ],
   "source": [
    "accuracy"
   ]
  },
  {
   "cell_type": "code",
   "execution_count": 18,
   "id": "e37aec96",
   "metadata": {},
   "outputs": [
    {
     "name": "stdout",
     "output_type": "stream",
     "text": [
      "Feature: 0, Score: 0.00569\n",
      "Feature: 1, Score: 0.01269\n",
      "Feature: 2, Score: 0.00112\n",
      "Feature: 3, Score: 0.00550\n",
      "Feature: 4, Score: 0.00121\n",
      "Feature: 5, Score: 0.00092\n",
      "Feature: 6, Score: 0.00351\n",
      "Feature: 7, Score: 0.00226\n",
      "Feature: 8, Score: 0.00235\n",
      "Feature: 9, Score: 0.00000\n",
      "Feature: 10, Score: 0.01805\n",
      "Feature: 11, Score: 0.00019\n",
      "Feature: 12, Score: 0.00319\n",
      "Feature: 13, Score: 0.00478\n",
      "Feature: 14, Score: 0.00441\n",
      "Feature: 15, Score: 0.00255\n",
      "Feature: 16, Score: 0.00709\n",
      "Feature: 17, Score: 0.00439\n",
      "Feature: 18, Score: 0.01042\n",
      "Feature: 19, Score: 0.00339\n",
      "Feature: 20, Score: 0.00976\n",
      "Feature: 21, Score: 0.00992\n",
      "Feature: 22, Score: 0.00185\n",
      "Feature: 23, Score: 0.00100\n",
      "Feature: 24, Score: 0.00031\n",
      "Feature: 25, Score: 0.00026\n",
      "Feature: 26, Score: 0.00121\n",
      "Feature: 27, Score: 0.00083\n",
      "Feature: 28, Score: 0.00027\n",
      "Feature: 29, Score: 0.00067\n",
      "Feature: 30, Score: 0.00019\n",
      "Feature: 31, Score: 0.00731\n",
      "Feature: 32, Score: 0.00016\n",
      "Feature: 33, Score: 0.00004\n",
      "Feature: 34, Score: 0.00156\n",
      "Feature: 35, Score: 0.00491\n",
      "Feature: 36, Score: 0.00197\n",
      "Feature: 37, Score: 0.00372\n",
      "Feature: 38, Score: 0.00649\n",
      "Feature: 39, Score: 0.01567\n",
      "Feature: 40, Score: 0.00089\n",
      "Feature: 41, Score: 0.00086\n",
      "Feature: 42, Score: 0.00215\n",
      "Feature: 43, Score: 0.00301\n",
      "Feature: 44, Score: 0.00106\n",
      "Feature: 45, Score: 0.00151\n",
      "Feature: 46, Score: 0.00847\n",
      "Feature: 47, Score: 0.00069\n",
      "Feature: 48, Score: 0.00240\n",
      "Feature: 49, Score: 0.00056\n",
      "Feature: 50, Score: 0.00085\n",
      "Feature: 51, Score: 0.00018\n",
      "Feature: 52, Score: 0.00024\n",
      "Feature: 53, Score: 0.00059\n",
      "Feature: 54, Score: 0.00369\n",
      "Feature: 55, Score: 0.00028\n",
      "Feature: 56, Score: 0.00161\n",
      "Feature: 57, Score: 0.00074\n",
      "Feature: 58, Score: 0.00056\n",
      "Feature: 59, Score: 0.00194\n",
      "Feature: 60, Score: 0.00493\n",
      "Feature: 61, Score: 0.00095\n",
      "Feature: 62, Score: 0.00146\n",
      "Feature: 63, Score: 0.00034\n",
      "Feature: 64, Score: 0.00005\n",
      "Feature: 65, Score: 0.00230\n",
      "Feature: 66, Score: 0.00066\n",
      "Feature: 67, Score: 0.00189\n",
      "Feature: 68, Score: 0.00699\n",
      "Feature: 69, Score: 0.00199\n",
      "Feature: 70, Score: 0.00227\n",
      "Feature: 71, Score: 0.00811\n",
      "Feature: 72, Score: 0.00187\n",
      "Feature: 73, Score: 0.00033\n",
      "Feature: 74, Score: 0.00029\n",
      "Feature: 75, Score: 0.00008\n",
      "Feature: 76, Score: 0.00021\n",
      "Feature: 77, Score: 0.00145\n",
      "Feature: 78, Score: 0.00007\n",
      "Feature: 79, Score: 0.00022\n",
      "Feature: 80, Score: 0.00134\n",
      "Feature: 81, Score: 0.00233\n",
      "Feature: 82, Score: 0.00040\n",
      "Feature: 83, Score: 0.00036\n",
      "Feature: 84, Score: 0.00107\n",
      "Feature: 85, Score: 0.00121\n",
      "Feature: 86, Score: 0.00061\n",
      "Feature: 87, Score: 0.00096\n",
      "Feature: 88, Score: 0.00121\n",
      "Feature: 89, Score: 0.00047\n",
      "Feature: 90, Score: 0.00070\n",
      "Feature: 91, Score: 0.00071\n",
      "Feature: 92, Score: 0.00065\n",
      "Feature: 93, Score: 0.00411\n",
      "Feature: 94, Score: 0.00116\n",
      "Feature: 95, Score: 0.00245\n",
      "Feature: 96, Score: 0.00372\n",
      "Feature: 97, Score: 0.00573\n",
      "Feature: 98, Score: 0.00120\n",
      "Feature: 99, Score: 0.00000\n",
      "Feature: 100, Score: 0.00068\n",
      "Feature: 101, Score: 0.00152\n",
      "Feature: 102, Score: 0.00012\n",
      "Feature: 103, Score: 0.00011\n",
      "Feature: 104, Score: 0.00054\n",
      "Feature: 105, Score: 0.00058\n",
      "Feature: 106, Score: 0.00082\n",
      "Feature: 107, Score: 0.00595\n",
      "Feature: 108, Score: 0.00335\n",
      "Feature: 109, Score: 0.00216\n",
      "Feature: 110, Score: 0.00188\n",
      "Feature: 111, Score: 0.00052\n",
      "Feature: 112, Score: 0.00159\n",
      "Feature: 113, Score: 0.01383\n",
      "Feature: 114, Score: 0.00795\n",
      "Feature: 115, Score: 0.00000\n",
      "Feature: 116, Score: 0.00000\n",
      "Feature: 117, Score: 0.00019\n",
      "Feature: 118, Score: 0.01667\n",
      "Feature: 119, Score: 0.00011\n",
      "Feature: 120, Score: 0.00623\n",
      "Feature: 121, Score: 0.00262\n",
      "Feature: 122, Score: 0.01269\n",
      "Feature: 123, Score: 0.00127\n",
      "Feature: 124, Score: 0.00785\n",
      "Feature: 125, Score: 0.00114\n",
      "Feature: 126, Score: 0.00000\n",
      "Feature: 127, Score: 0.00000\n",
      "Feature: 128, Score: 0.00000\n",
      "Feature: 129, Score: 0.00000\n",
      "Feature: 130, Score: 0.05973\n",
      "Feature: 131, Score: 0.00000\n",
      "Feature: 132, Score: 0.00000\n",
      "Feature: 133, Score: 0.00021\n",
      "Feature: 134, Score: 0.00000\n",
      "Feature: 135, Score: 0.00000\n",
      "Feature: 136, Score: 0.01117\n",
      "Feature: 137, Score: 0.00334\n",
      "Feature: 138, Score: 0.00000\n",
      "Feature: 139, Score: 0.00034\n",
      "Feature: 140, Score: 0.00319\n",
      "Feature: 141, Score: 0.00139\n",
      "Feature: 142, Score: 0.00956\n",
      "Feature: 143, Score: 0.00112\n",
      "Feature: 144, Score: 0.05986\n",
      "Feature: 145, Score: 0.00058\n",
      "Feature: 146, Score: 0.00274\n",
      "Feature: 147, Score: 0.00052\n",
      "Feature: 148, Score: 0.00751\n",
      "Feature: 149, Score: 0.02786\n",
      "Feature: 150, Score: 0.00105\n",
      "Feature: 151, Score: 0.00117\n",
      "Feature: 152, Score: 0.00959\n",
      "Feature: 153, Score: 0.00553\n",
      "Feature: 154, Score: 0.00081\n",
      "Feature: 155, Score: 0.04488\n",
      "Feature: 156, Score: 0.00198\n",
      "Feature: 157, Score: 0.00017\n",
      "Feature: 158, Score: 0.01948\n",
      "Feature: 159, Score: 0.00498\n",
      "Feature: 160, Score: 0.02450\n",
      "Feature: 161, Score: 0.00034\n",
      "Feature: 162, Score: 0.00048\n",
      "Feature: 163, Score: 0.00614\n",
      "Feature: 164, Score: 0.00172\n",
      "Feature: 165, Score: 0.00657\n",
      "Feature: 166, Score: 0.00543\n",
      "Feature: 167, Score: 0.00308\n",
      "Feature: 168, Score: 0.00024\n",
      "Feature: 169, Score: 0.00859\n",
      "Feature: 170, Score: 0.00139\n",
      "Feature: 171, Score: 0.00072\n",
      "Feature: 172, Score: 0.01674\n",
      "Feature: 173, Score: 0.00555\n",
      "Feature: 174, Score: 0.00265\n",
      "Feature: 175, Score: 0.00482\n",
      "Feature: 176, Score: 0.00103\n",
      "Feature: 177, Score: 0.00300\n",
      "Feature: 178, Score: 0.00169\n",
      "Feature: 179, Score: 0.00757\n",
      "Feature: 180, Score: 0.00498\n",
      "Feature: 181, Score: 0.00123\n",
      "Feature: 182, Score: 0.00014\n",
      "Feature: 183, Score: 0.00106\n",
      "Feature: 184, Score: 0.00086\n",
      "Feature: 185, Score: 0.01183\n",
      "Feature: 186, Score: 0.00442\n",
      "Feature: 187, Score: 0.00076\n",
      "Feature: 188, Score: 0.00020\n",
      "Feature: 189, Score: 0.00486\n",
      "Feature: 190, Score: 0.00482\n",
      "Feature: 191, Score: 0.00315\n",
      "Feature: 192, Score: 0.00031\n",
      "Feature: 193, Score: 0.00065\n",
      "Feature: 194, Score: 0.00306\n",
      "Feature: 195, Score: 0.01288\n",
      "Feature: 196, Score: 0.00055\n",
      "Feature: 197, Score: 0.00323\n",
      "Feature: 198, Score: 0.00642\n",
      "Feature: 199, Score: 0.00278\n",
      "Feature: 200, Score: 0.02738\n",
      "Feature: 201, Score: 0.00435\n",
      "Feature: 202, Score: 0.00292\n",
      "Feature: 203, Score: 0.00150\n",
      "Feature: 204, Score: 0.00596\n",
      "Feature: 205, Score: 0.00084\n",
      "Feature: 206, Score: 0.00000\n",
      "Feature: 207, Score: 0.00257\n",
      "Feature: 208, Score: 0.00000\n",
      "Feature: 209, Score: 0.00056\n",
      "Feature: 210, Score: 0.00519\n",
      "Feature: 211, Score: 0.07974\n",
      "Feature: 212, Score: 0.00213\n",
      "Feature: 213, Score: 0.00168\n",
      "Feature: 214, Score: 0.00000\n",
      "Feature: 215, Score: 0.00312\n",
      "Feature: 216, Score: 0.00010\n",
      "Feature: 217, Score: 0.00002\n",
      "Feature: 218, Score: 0.00064\n",
      "Feature: 219, Score: 0.00419\n",
      "Feature: 220, Score: 0.00177\n",
      "Feature: 221, Score: 0.00304\n",
      "Feature: 222, Score: 0.00019\n",
      "Feature: 223, Score: 0.00003\n",
      "Feature: 224, Score: 0.00034\n",
      "Feature: 225, Score: 0.00000\n",
      "Feature: 226, Score: 0.00080\n",
      "Feature: 227, Score: 0.00026\n",
      "Feature: 228, Score: 0.00029\n",
      "Feature: 229, Score: 0.00125\n",
      "Feature: 230, Score: 0.00012\n",
      "Feature: 231, Score: 0.00445\n",
      "Feature: 232, Score: 0.00000\n",
      "Feature: 233, Score: 0.02731\n",
      "Feature: 234, Score: 0.00385\n",
      "Feature: 235, Score: 0.00000\n",
      "Feature: 236, Score: 0.00442\n",
      "Feature: 237, Score: 0.00484\n",
      "Feature: 238, Score: 0.00163\n",
      "Feature: 239, Score: 0.00103\n",
      "Feature: 240, Score: 0.00020\n",
      "Feature: 241, Score: 0.00071\n",
      "Feature: 242, Score: 0.00004\n"
     ]
    },
    {
     "data": {
      "image/png": "[encoded data removed]",
      "text/plain": [
       "<Figure size 432x288 with 1 Axes>"
      ]
     },
     "metadata": {
      "needs_background": "light"
     },
     "output_type": "display_data"
    }
   ],
   "source": [
    "# get importance\n",
    "importance = classifier.feature_importances_\n",
    "# summarize feature importance\n",
    "for i,v in enumerate(importance):\n",
    " print('Feature: %0d, Score: %.5f' % (i,v))\n",
    "# plot feature importance\n",
    "plt.bar([x for x in range(len(importance))], importance)\n",
    "plt.show()"
   ]
  },
  {
   "cell_type": "code",
   "execution_count": 19,
   "id": "38155b05",
   "metadata": {
    "scrolled": true
   },
   "outputs": [],
   "source": [
    "newdf=pd.DataFrame({'col_name':importance}, index=data.columns[:-2]).sort_values(by='col_name', ascending=False)"
   ]
  },
  {
   "cell_type": "code",
   "execution_count": 20,
   "id": "b938d186",
   "metadata": {},
   "outputs": [
    {
     "data": {
      "text/html": [
       "<div>\n",
       "<style scoped>\n",
       "    .dataframe tbody tr th:only-of-type {\n",
       "        vertical-align: middle;\n",
       "    }\n",
       "\n",
       "    .dataframe tbody tr th {\n",
       "        vertical-align: top;\n",
       "    }\n",
       "\n",
       "    .dataframe thead th {\n",
       "        text-align: right;\n",
       "    }\n",
       "</style>\n",
       "<table border=\"1\" class=\"dataframe\">\n",
       "  <thead>\n",
       "    <tr style=\"text-align: right;\">\n",
       "      <th></th>\n",
       "      <th>col_name</th>\n",
       "    </tr>\n",
       "  </thead>\n",
       "  <tbody>\n",
       "    <tr>\n",
       "      <th>69ftrm</th>\n",
       "      <td>0.079736</td>\n",
       "    </tr>\n",
       "    <tr>\n",
       "      <th>2ftrm</th>\n",
       "      <td>0.059863</td>\n",
       "    </tr>\n",
       "    <tr>\n",
       "      <th>.35ft</th>\n",
       "      <td>0.059728</td>\n",
       "    </tr>\n",
       "    <tr>\n",
       "      <th>13ftrm</th>\n",
       "      <td>0.044879</td>\n",
       "    </tr>\n",
       "    <tr>\n",
       "      <th>7ftrm</th>\n",
       "      <td>0.027859</td>\n",
       "    </tr>\n",
       "    <tr>\n",
       "      <th>58ftrm</th>\n",
       "      <td>0.027380</td>\n",
       "    </tr>\n",
       "    <tr>\n",
       "      <th>91ftrm</th>\n",
       "      <td>0.027312</td>\n",
       "    </tr>\n",
       "    <tr>\n",
       "      <th>18ftrm</th>\n",
       "      <td>0.024496</td>\n",
       "    </tr>\n",
       "    <tr>\n",
       "      <th>16ftrm</th>\n",
       "      <td>0.019481</td>\n",
       "    </tr>\n",
       "    <tr>\n",
       "      <th>.4</th>\n",
       "      <td>0.018053</td>\n",
       "    </tr>\n",
       "    <tr>\n",
       "      <th>30ftrm</th>\n",
       "      <td>0.016736</td>\n",
       "    </tr>\n",
       "    <tr>\n",
       "      <th>97rm</th>\n",
       "      <td>0.016669</td>\n",
       "    </tr>\n",
       "    <tr>\n",
       "      <th>18rm</th>\n",
       "      <td>0.015672</td>\n",
       "    </tr>\n",
       "    <tr>\n",
       "      <th>92rm</th>\n",
       "      <td>0.013828</td>\n",
       "    </tr>\n",
       "    <tr>\n",
       "      <th>53ftrm</th>\n",
       "      <td>0.012883</td>\n",
       "    </tr>\n",
       "    <tr>\n",
       "      <th>mean(absx)</th>\n",
       "      <td>0.012693</td>\n",
       "    </tr>\n",
       "    <tr>\n",
       "      <th>mean(ftabs)</th>\n",
       "      <td>0.012689</td>\n",
       "    </tr>\n",
       "    <tr>\n",
       "      <th>43ftrm</th>\n",
       "      <td>0.011827</td>\n",
       "    </tr>\n",
       "    <tr>\n",
       "      <th>.65ft</th>\n",
       "      <td>0.011167</td>\n",
       "    </tr>\n",
       "    <tr>\n",
       "      <th>.8</th>\n",
       "      <td>0.010424</td>\n",
       "    </tr>\n",
       "  </tbody>\n",
       "</table>\n",
       "</div>"
      ],
      "text/plain": [
       "             col_name\n",
       "69ftrm       0.079736\n",
       "2ftrm        0.059863\n",
       ".35ft        0.059728\n",
       "13ftrm       0.044879\n",
       "7ftrm        0.027859\n",
       "58ftrm       0.027380\n",
       "91ftrm       0.027312\n",
       "18ftrm       0.024496\n",
       "16ftrm       0.019481\n",
       ".4           0.018053\n",
       "30ftrm       0.016736\n",
       "97rm         0.016669\n",
       "18rm         0.015672\n",
       "92rm         0.013828\n",
       "53ftrm       0.012883\n",
       "mean(absx)   0.012693\n",
       "mean(ftabs)  0.012689\n",
       "43ftrm       0.011827\n",
       ".65ft        0.011167\n",
       ".8           0.010424"
      ]
     },
     "execution_count": 20,
     "metadata": {},
     "output_type": "execute_result"
    }
   ],
   "source": [
    "newdf[:20]"
   ]
  },
  {
   "cell_type": "code",
   "execution_count": 21,
   "id": "22d39cf1",
   "metadata": {},
   "outputs": [],
   "source": [
    "import numpy as np\n",
    "np.set_printoptions(linewidth=200)  # default 75"
   ]
  },
  {
   "cell_type": "code",
   "execution_count": 22,
   "id": "16fbcd41",
   "metadata": {
    "scrolled": false
   },
   "outputs": [
    {
     "name": "stdout",
     "output_type": "stream",
     "text": [
      "Index(['69ftrm', '2ftrm', '.35ft', '13ftrm', '7ftrm', '58ftrm', '91ftrm',\n",
      "       '18ftrm', '16ftrm', '.4',\n",
      "       ...\n",
      "       '8ftrm', '97ftrm', '34ftrm', '2rm', '66rm', '40rm', '.15', '19rm',\n",
      "       '20rm', '42ftrm'],\n",
      "      dtype='object', length=150)\n"
     ]
    }
   ],
   "source": [
    "print(newdf.index[:150])"
   ]
  },
  {
   "cell_type": "code",
   "execution_count": 23,
   "id": "52dc4e96",
   "metadata": {},
   "outputs": [],
   "source": [
    "newdfind=newdf.index[:150]"
   ]
  },
  {
   "cell_type": "code",
   "execution_count": 24,
   "id": "599697b8",
   "metadata": {
    "scrolled": true
   },
   "outputs": [
    {
     "ename": "KeyError",
     "evalue": "\"None of [Index([('69ftrm', '2ftrm', '.35ft', '13ftrm', '7ftrm', '58ftrm', '91ftrm', '18ftrm', '16ftrm', '.4', '30ftrm', '97rm', '18rm', '92rm', '53ftrm', 'mean(absx)', 'mean(ftabs)', '43ftrm', '.65ft', '.8', '.95', '.9', '10ftrm', '.95ft', '27ftrm', '25rm', '50rm', '93rm', '.05 perc of np.log(ftabsposmin+ftabs)', '37ftrm', '6ftrm', '10rm', '.7', '47rm', '23ftrm', '17rm', '56ftrm', '99rm', '21ftrm', '62ftrm', '86rm', '76rm', 'length', '31ftrm', '11ftrm', '.05 perc of np.log(xabsposmin+np.abs(x))', '24ftrm', '68ftrm', '38ftrm', '17ftrm', '39rm', '14rm', '47ftrm', '95ftrm', '48ftrm', '33ftrm', '.55', '89ftrm', '94ftrm', '44ftrm', '.6', '.75', '59ftrm', '77ftrm', '72rm', '92ftrm', '16rm', '75rm', '33rm', '.2', '.85', '87rm', '.7ft', '55ftrm', '.85ft', '.5', '49ftrm', '73ftrm', '25ftrm', '52ftrm', '79ftrm', '22rm', '35ftrm', '60ftrm', '57ftrm', '4ftrm', '32ftrm', '100rm', '65ftrm', '.65', '74rm', '27rm', '.3', '60rm', '44rm', '49rm', '.25', '88rm', '21rm', '70ftrm', ...)], dtype='object')] are in the [columns]\"",
     "output_type": "error",
     "traceback": [
      "\u001b[1;31m---------------------------------------------------------------------------\u001b[0m",
      "\u001b[1;31mKeyError\u001b[0m                                  Traceback (most recent call last)",
      "Input \u001b[1;32mIn [24]\u001b[0m, in \u001b[0;36m<cell line: 1>\u001b[1;34m()\u001b[0m\n\u001b[1;32m----> 1\u001b[0m X_train\u001b[38;5;241m=\u001b[39m\u001b[43mX_train_0\u001b[49m\u001b[43m[\u001b[49m\u001b[43m[\u001b[49m\u001b[43mnewdfind\u001b[49m\u001b[43m]\u001b[49m\u001b[43m]\u001b[49m\n\u001b[0;32m      2\u001b[0m X_test\u001b[38;5;241m=\u001b[39mX_test_0[[newdfind]]\n",
      "File \u001b[1;32m~\\anaconda3\\lib\\site-packages\\pandas\\core\\frame.py:3511\u001b[0m, in \u001b[0;36mDataFrame.__getitem__\u001b[1;34m(self, key)\u001b[0m\n\u001b[0;32m   3509\u001b[0m     \u001b[38;5;28;01mif\u001b[39;00m is_iterator(key):\n\u001b[0;32m   3510\u001b[0m         key \u001b[38;5;241m=\u001b[39m \u001b[38;5;28mlist\u001b[39m(key)\n\u001b[1;32m-> 3511\u001b[0m     indexer \u001b[38;5;241m=\u001b[39m \u001b[38;5;28;43mself\u001b[39;49m\u001b[38;5;241;43m.\u001b[39;49m\u001b[43mcolumns\u001b[49m\u001b[38;5;241;43m.\u001b[39;49m\u001b[43m_get_indexer_strict\u001b[49m\u001b[43m(\u001b[49m\u001b[43mkey\u001b[49m\u001b[43m,\u001b[49m\u001b[43m \u001b[49m\u001b[38;5;124;43m\"\u001b[39;49m\u001b[38;5;124;43mcolumns\u001b[39;49m\u001b[38;5;124;43m\"\u001b[39;49m\u001b[43m)\u001b[49m[\u001b[38;5;241m1\u001b[39m]\n\u001b[0;32m   3513\u001b[0m \u001b[38;5;66;03m# take() does not accept boolean indexers\u001b[39;00m\n\u001b[0;32m   3514\u001b[0m \u001b[38;5;28;01mif\u001b[39;00m \u001b[38;5;28mgetattr\u001b[39m(indexer, \u001b[38;5;124m\"\u001b[39m\u001b[38;5;124mdtype\u001b[39m\u001b[38;5;124m\"\u001b[39m, \u001b[38;5;28;01mNone\u001b[39;00m) \u001b[38;5;241m==\u001b[39m \u001b[38;5;28mbool\u001b[39m:\n",
      "File \u001b[1;32m~\\anaconda3\\lib\\site-packages\\pandas\\core\\indexes\\base.py:5782\u001b[0m, in \u001b[0;36mIndex._get_indexer_strict\u001b[1;34m(self, key, axis_name)\u001b[0m\n\u001b[0;32m   5779\u001b[0m \u001b[38;5;28;01melse\u001b[39;00m:\n\u001b[0;32m   5780\u001b[0m     keyarr, indexer, new_indexer \u001b[38;5;241m=\u001b[39m \u001b[38;5;28mself\u001b[39m\u001b[38;5;241m.\u001b[39m_reindex_non_unique(keyarr)\n\u001b[1;32m-> 5782\u001b[0m \u001b[38;5;28;43mself\u001b[39;49m\u001b[38;5;241;43m.\u001b[39;49m\u001b[43m_raise_if_missing\u001b[49m\u001b[43m(\u001b[49m\u001b[43mkeyarr\u001b[49m\u001b[43m,\u001b[49m\u001b[43m \u001b[49m\u001b[43mindexer\u001b[49m\u001b[43m,\u001b[49m\u001b[43m \u001b[49m\u001b[43maxis_name\u001b[49m\u001b[43m)\u001b[49m\n\u001b[0;32m   5784\u001b[0m keyarr \u001b[38;5;241m=\u001b[39m \u001b[38;5;28mself\u001b[39m\u001b[38;5;241m.\u001b[39mtake(indexer)\n\u001b[0;32m   5785\u001b[0m \u001b[38;5;28;01mif\u001b[39;00m \u001b[38;5;28misinstance\u001b[39m(key, Index):\n\u001b[0;32m   5786\u001b[0m     \u001b[38;5;66;03m# GH 42790 - Preserve name from an Index\u001b[39;00m\n",
      "File \u001b[1;32m~\\anaconda3\\lib\\site-packages\\pandas\\core\\indexes\\base.py:5842\u001b[0m, in \u001b[0;36mIndex._raise_if_missing\u001b[1;34m(self, key, indexer, axis_name)\u001b[0m\n\u001b[0;32m   5840\u001b[0m     \u001b[38;5;28;01mif\u001b[39;00m use_interval_msg:\n\u001b[0;32m   5841\u001b[0m         key \u001b[38;5;241m=\u001b[39m \u001b[38;5;28mlist\u001b[39m(key)\n\u001b[1;32m-> 5842\u001b[0m     \u001b[38;5;28;01mraise\u001b[39;00m \u001b[38;5;167;01mKeyError\u001b[39;00m(\u001b[38;5;124mf\u001b[39m\u001b[38;5;124m\"\u001b[39m\u001b[38;5;124mNone of [\u001b[39m\u001b[38;5;132;01m{\u001b[39;00mkey\u001b[38;5;132;01m}\u001b[39;00m\u001b[38;5;124m] are in the [\u001b[39m\u001b[38;5;132;01m{\u001b[39;00maxis_name\u001b[38;5;132;01m}\u001b[39;00m\u001b[38;5;124m]\u001b[39m\u001b[38;5;124m\"\u001b[39m)\n\u001b[0;32m   5844\u001b[0m not_found \u001b[38;5;241m=\u001b[39m \u001b[38;5;28mlist\u001b[39m(ensure_index(key)[missing_mask\u001b[38;5;241m.\u001b[39mnonzero()[\u001b[38;5;241m0\u001b[39m]]\u001b[38;5;241m.\u001b[39munique())\n\u001b[0;32m   5845\u001b[0m \u001b[38;5;28;01mraise\u001b[39;00m \u001b[38;5;167;01mKeyError\u001b[39;00m(\u001b[38;5;124mf\u001b[39m\u001b[38;5;124m\"\u001b[39m\u001b[38;5;132;01m{\u001b[39;00mnot_found\u001b[38;5;132;01m}\u001b[39;00m\u001b[38;5;124m not in index\u001b[39m\u001b[38;5;124m\"\u001b[39m)\n",
      "\u001b[1;31mKeyError\u001b[0m: \"None of [Index([('69ftrm', '2ftrm', '.35ft', '13ftrm', '7ftrm', '58ftrm', '91ftrm', '18ftrm', '16ftrm', '.4', '30ftrm', '97rm', '18rm', '92rm', '53ftrm', 'mean(absx)', 'mean(ftabs)', '43ftrm', '.65ft', '.8', '.95', '.9', '10ftrm', '.95ft', '27ftrm', '25rm', '50rm', '93rm', '.05 perc of np.log(ftabsposmin+ftabs)', '37ftrm', '6ftrm', '10rm', '.7', '47rm', '23ftrm', '17rm', '56ftrm', '99rm', '21ftrm', '62ftrm', '86rm', '76rm', 'length', '31ftrm', '11ftrm', '.05 perc of np.log(xabsposmin+np.abs(x))', '24ftrm', '68ftrm', '38ftrm', '17ftrm', '39rm', '14rm', '47ftrm', '95ftrm', '48ftrm', '33ftrm', '.55', '89ftrm', '94ftrm', '44ftrm', '.6', '.75', '59ftrm', '77ftrm', '72rm', '92ftrm', '16rm', '75rm', '33rm', '.2', '.85', '87rm', '.7ft', '55ftrm', '.85ft', '.5', '49ftrm', '73ftrm', '25ftrm', '52ftrm', '79ftrm', '22rm', '35ftrm', '60ftrm', '57ftrm', '4ftrm', '32ftrm', '100rm', '65ftrm', '.65', '74rm', '27rm', '.3', '60rm', '44rm', '49rm', '.25', '88rm', '21rm', '70ftrm', ...)], dtype='object')] are in the [columns]\""
     ]
    }
   ],
   "source": [
    "X_train=X_train_0[[newdfind]]\n",
    "X_test=X_test_0[[newdfind]]"
   ]
  },
  {
   "cell_type": "code",
   "execution_count": 123,
   "id": "1f894fba",
   "metadata": {
    "scrolled": true
   },
   "outputs": [
    {
     "name": "stdout",
     "output_type": "stream",
     "text": [
      "[[ 3  0  0  0  0  0  0  0  1  0  0  0  0  0  0]\n",
      " [ 0 12  0  0  0  0  0  0  0  0  0  0  0  0  0]\n",
      " [ 0  0 16  0  0  0  0  0  0  0  0  0  1  0  0]\n",
      " [ 0  0  0  5  0  0  0  0  0  0  0  0  0  0  0]\n",
      " [ 0  0  0  0 10  0  0  0  0  0  0  0  1  0  0]\n",
      " [ 0  0  0  0  0  7  0  0  0  0  0  0  0  0  0]\n",
      " [ 0  0  0  1  2  0  7  0  0  0  0  0  0  0  0]\n",
      " [ 0  0  0  0  1  0  0  7  0  0  0  0  0  0  0]\n",
      " [ 1  0  0  1  0  0  0  0  4  0  0  0  0  0  0]\n",
      " [ 0  0  0  0  0  0  0  0  0  8  0  0  0  0  0]\n",
      " [ 0  0  0  0  0  0  0  0  0  0 10  0  0  0  0]\n",
      " [ 0  0  0  0  0  0  0  0  0  0  0  6  0  0  0]\n",
      " [ 0  0  0  0  0  0  0  0  0  0  0  0  7  0  0]\n",
      " [ 0  0  1  0  0  0  0  0  0  0  0  0  0 11  0]\n",
      " [ 0  0  0  0  0  0  0  0  0  0  0  0  0  0 12]]\n",
      "0.9259259259259259\n"
     ]
    }
   ],
   "source": [
    "from sklearn.tree import DecisionTreeClassifier\n",
    "from sklearn.preprocessing import LabelEncoder\n",
    "from sklearn.metrics import confusion_matrix,ConfusionMatrixDisplay\n",
    "le = LabelEncoder()\n",
    "y_train = le.fit_transform(y_train)\n",
    "from xgboost import XGBClassifier\n",
    "classifier = XGBClassifier()\n",
    "classifier.fit(X = X_train,y =  y_train)\n",
    "from sklearn.metrics import confusion_matrix, accuracy_score\n",
    "y_pred = classifier.predict(X_test)\n",
    "y_pred = le.inverse_transform(y_pred)\n",
    "cm = confusion_matrix(y_test, y_pred)\n",
    "print(cm)\n",
    "accuracy=accuracy_score(y_test, y_pred)\n",
    "# disp = ConfusionMatrixDisplay(confusion_matrix=confusion_matrix,display_labels=classifier.classes_)\n",
    "# disp.plot()\n",
    "print(accuracy)"
   ]
  },
  {
   "cell_type": "code",
   "execution_count": 97,
   "id": "712ca6ed",
   "metadata": {},
   "outputs": [
    {
     "name": "stdout",
     "output_type": "stream",
     "text": [
      "[0.9285714285714286, 0.8421052631578947, 0.8235294117647058, 0.9411764705882353, 0.8, 0.7647058823529411, 0.8571428571428571, 0.9285714285714286, 0.9230769230769231]\n",
      "[0.75, 0.8333333333333334, 0.9411764705882353, 1.0, 0.9090909090909091, 1.0, 0.6, 0.875, 0.8333333333333334, 1.0, 0.8, 0.6666666666666666, 1.0, 0.8333333333333334, 0.9166666666666666]\n"
     ]
    }
   ],
   "source": [
    "d=pd.DataFrame({'y':y,\"y2\":y2,\"ypred\":y_pred})\n",
    "tf=d.y==d.ypred\n",
    "lst=[]\n",
    "for i in range(9):\n",
    "\n",
    "    lst.append(d.loc[tf&(y2==i)].shape[0]/d.loc[y2==i].shape[0])\n",
    "print(lst)\n",
    "label_acc=[]\n",
    "for i in range(15):\n",
    "    label_acc.append(np.sum((y_pred[y_test==i]==y_test[y_test==i]))/len(y_test[y_test==i]))\n",
    "print(label_acc)\n",
    "dout1=pd.DataFrame({'xgb':lst})\n",
    "dout2=pd.DataFrame({'xgb':label_acc})"
   ]
  },
  {
   "cell_type": "markdown",
   "id": "b74f6c93",
   "metadata": {},
   "source": [
    "# Instructions for Sections 2.2 - 2.8:\n",
    "\n",
    "Implement the classification algorithm using built-in functions in sklearn. Train the model using the training data and then test it using the test data. Show a confusion matrix to show the true-positives, false-positives, false-negatives and true-negatives when the trained model is applied to the test data. "
   ]
  },
  {
   "cell_type": "markdown",
   "id": "2ff81c60-1002-421c-accf-c5323aa72893",
   "metadata": {},
   "source": [
    "## 2.2 Linear Discriminant Analysis Classifier"
   ]
  },
  {
   "cell_type": "code",
   "execution_count": 48,
   "id": "fc42a5c4",
   "metadata": {},
   "outputs": [
    {
     "name": "stdout",
     "output_type": "stream",
     "text": [
      "135 135\n"
     ]
    }
   ],
   "source": [
    "print(len(y_pred),len(y_test))"
   ]
  },
  {
   "cell_type": "code",
   "execution_count": 49,
   "id": "8ab143e8",
   "metadata": {},
   "outputs": [
    {
     "name": "stdout",
     "output_type": "stream",
     "text": [
      "Accuracy of Linear Discriminant Analysis is 90.3704%\n",
      "[14  2  2  8  5  4  6  4 12  4  2  9 13  3  6  2  7  1 12  1  9  2 14 14\n",
      "  5  5 14 13  9  2 13  1  5 13 10  6  4 14  6 10  2  4  4  1 10 10  1  6\n",
      " 13  2  2  4  2 12  0 13  6 12 14 12  4 12 10 11  4  4  8 13  0  6  4 10\n",
      "  1  5  0  7  6 13  2 10 13  7  9 10  2  2  9 10 14  1 12 14 14  2  0  1\n",
      "  2  5  4  1  8  2  3 11  7  3 13  3  2 14  4  9  7 11 13  7  9 10  6  7\n",
      "  3 14  5 11  5  1 14 11  9  1 14  1 12 13  7]\n"
     ]
    }
   ],
   "source": [
    "from sklearn.discriminant_analysis import LinearDiscriminantAnalysis\n",
    "from sklearn.metrics import confusion_matrix,ConfusionMatrixDisplay\n",
    "from sklearn.metrics import accuracy_score\n",
    "\n",
    "# LDA fit\n",
    "m1 = 'Linear Discriminant Analysis'\n",
    "\n",
    "lda = LinearDiscriminantAnalysis(solver=\"svd\", store_covariance=True)\n",
    "lda_y_predicted = lda.fit(X_train, y_train).predict(X_test)\n",
    "\n",
    "# get the accuracy score\n",
    "lda_accuraccy_score = accuracy_score(y_test, lda_y_predicted)\n",
    "print(f'Accuracy of Linear Discriminant Analysis is {lda_accuraccy_score*100:.4f}%')\n",
    "print(lda_y_predicted)"
   ]
  },
  {
   "cell_type": "code",
   "execution_count": 50,
   "id": "ee75e44a-e85e-4810-b31b-3f11d53c06ec",
   "metadata": {
    "scrolled": true
   },
   "outputs": [
    {
     "data": {
      "image/png": "[encoded data removed]",
      "text/plain": [
       "<Figure size 432x288 with 2 Axes>"
      ]
     },
     "metadata": {
      "needs_background": "light"
     },
     "output_type": "display_data"
    }
   ],
   "source": [
    "# get the confusion matrix\n",
    "lda_conf_matrix = confusion_matrix(y_test, lda_y_predicted)\n",
    "disp = ConfusionMatrixDisplay(confusion_matrix=lda_conf_matrix,display_labels=lda.classes_)\n",
    "disp.plot()\n",
    "plt.show()"
   ]
  },
  {
   "cell_type": "code",
   "execution_count": 54,
   "id": "4b0fd177",
   "metadata": {},
   "outputs": [
    {
     "name": "stdout",
     "output_type": "stream",
     "text": [
      "[0.9285714285714286, 0.8947368421052632, 0.8823529411764706, 1.0, 1.0, 0.7647058823529411, 1.0, 0.8571428571428571, 0.8461538461538461]\n",
      "[1.0, 0.75, 0.8823529411764706, 1.0, 1.0, 1.0, 0.8, 1.0, 0.5, 1.0, 1.0, 0.8333333333333334, 1.0, 0.9166666666666666, 0.9166666666666666]\n"
     ]
    }
   ],
   "source": [
    "y_pred=lda_y_predicted\n",
    "\n",
    "d=pd.DataFrame({'y':y,\"y2\":y2,\"ypred\":y_pred})\n",
    "tf=d.y==d.ypred\n",
    "lst=[]\n",
    "for i in range(9):\n",
    "\n",
    "    lst.append(d.loc[tf&(y2==i)].shape[0]/d.loc[y2==i].shape[0])\n",
    "print(lst)\n",
    "label_acc=[]\n",
    "for i in range(15):\n",
    "    label_acc.append(np.sum((y_pred[y_test==i]==y_test[y_test==i]))/len(y_test[y_test==i]))\n",
    "print(label_acc)\n",
    "dout1['lda']=lst\n",
    "dout2['lda']=label_acc"
   ]
  },
  {
   "cell_type": "code",
   "execution_count": 56,
   "id": "7bf6efc4",
   "metadata": {},
   "outputs": [
    {
     "data": {
      "text/html": [
       "<div>\n",
       "<style scoped>\n",
       "    .dataframe tbody tr th:only-of-type {\n",
       "        vertical-align: middle;\n",
       "    }\n",
       "\n",
       "    .dataframe tbody tr th {\n",
       "        vertical-align: top;\n",
       "    }\n",
       "\n",
       "    .dataframe thead th {\n",
       "        text-align: right;\n",
       "    }\n",
       "</style>\n",
       "<table border=\"1\" class=\"dataframe\">\n",
       "  <thead>\n",
       "    <tr style=\"text-align: right;\">\n",
       "      <th></th>\n",
       "      <th>xgb</th>\n",
       "      <th>lda</th>\n",
       "    </tr>\n",
       "  </thead>\n",
       "  <tbody>\n",
       "    <tr>\n",
       "      <th>0</th>\n",
       "      <td>1.000000</td>\n",
       "      <td>1.000000</td>\n",
       "    </tr>\n",
       "    <tr>\n",
       "      <th>1</th>\n",
       "      <td>0.750000</td>\n",
       "      <td>0.750000</td>\n",
       "    </tr>\n",
       "    <tr>\n",
       "      <th>2</th>\n",
       "      <td>0.882353</td>\n",
       "      <td>0.882353</td>\n",
       "    </tr>\n",
       "    <tr>\n",
       "      <th>3</th>\n",
       "      <td>1.000000</td>\n",
       "      <td>1.000000</td>\n",
       "    </tr>\n",
       "    <tr>\n",
       "      <th>4</th>\n",
       "      <td>1.000000</td>\n",
       "      <td>1.000000</td>\n",
       "    </tr>\n",
       "    <tr>\n",
       "      <th>5</th>\n",
       "      <td>1.000000</td>\n",
       "      <td>1.000000</td>\n",
       "    </tr>\n",
       "    <tr>\n",
       "      <th>6</th>\n",
       "      <td>0.800000</td>\n",
       "      <td>0.800000</td>\n",
       "    </tr>\n",
       "    <tr>\n",
       "      <th>7</th>\n",
       "      <td>1.000000</td>\n",
       "      <td>1.000000</td>\n",
       "    </tr>\n",
       "    <tr>\n",
       "      <th>8</th>\n",
       "      <td>0.500000</td>\n",
       "      <td>0.500000</td>\n",
       "    </tr>\n",
       "    <tr>\n",
       "      <th>9</th>\n",
       "      <td>1.000000</td>\n",
       "      <td>1.000000</td>\n",
       "    </tr>\n",
       "    <tr>\n",
       "      <th>10</th>\n",
       "      <td>1.000000</td>\n",
       "      <td>1.000000</td>\n",
       "    </tr>\n",
       "    <tr>\n",
       "      <th>11</th>\n",
       "      <td>0.833333</td>\n",
       "      <td>0.833333</td>\n",
       "    </tr>\n",
       "    <tr>\n",
       "      <th>12</th>\n",
       "      <td>1.000000</td>\n",
       "      <td>1.000000</td>\n",
       "    </tr>\n",
       "    <tr>\n",
       "      <th>13</th>\n",
       "      <td>0.916667</td>\n",
       "      <td>0.916667</td>\n",
       "    </tr>\n",
       "    <tr>\n",
       "      <th>14</th>\n",
       "      <td>0.916667</td>\n",
       "      <td>0.916667</td>\n",
       "    </tr>\n",
       "  </tbody>\n",
       "</table>\n",
       "</div>"
      ],
      "text/plain": [
       "         xgb       lda\n",
       "0   1.000000  1.000000\n",
       "1   0.750000  0.750000\n",
       "2   0.882353  0.882353\n",
       "3   1.000000  1.000000\n",
       "4   1.000000  1.000000\n",
       "5   1.000000  1.000000\n",
       "6   0.800000  0.800000\n",
       "7   1.000000  1.000000\n",
       "8   0.500000  0.500000\n",
       "9   1.000000  1.000000\n",
       "10  1.000000  1.000000\n",
       "11  0.833333  0.833333\n",
       "12  1.000000  1.000000\n",
       "13  0.916667  0.916667\n",
       "14  0.916667  0.916667"
      ]
     },
     "execution_count": 56,
     "metadata": {},
     "output_type": "execute_result"
    }
   ],
   "source": [
    "dout2"
   ]
  },
  {
   "cell_type": "markdown",
   "id": "3fd7d4b0-adc8-41f7-bf33-e19f1efe3c28",
   "metadata": {},
   "source": [
    "## 2.2 Quadratic Discriminant Analysis Classifier"
   ]
  },
  {
   "cell_type": "code",
   "execution_count": 28,
   "id": "6fa9c488-8e70-4cdc-a662-411c23a7d0fc",
   "metadata": {},
   "outputs": [
    {
     "name": "stderr",
     "output_type": "stream",
     "text": [
      "C:\\Users\\nibaf\\anaconda3\\lib\\site-packages\\sklearn\\discriminant_analysis.py:878: UserWarning: Variables are collinear\n",
      "  warnings.warn(\"Variables are collinear\")\n"
     ]
    },
    {
     "name": "stdout",
     "output_type": "stream",
     "text": [
      "Accuracy of Quadratic Discriminant Analysis is 13.3333%\n"
     ]
    },
    {
     "data": {
      "image/png": "[encoded data removed]",
      "text/plain": [
       "<Figure size 432x288 with 2 Axes>"
      ]
     },
     "metadata": {
      "needs_background": "light"
     },
     "output_type": "display_data"
    }
   ],
   "source": [
    "from sklearn.discriminant_analysis import QuadraticDiscriminantAnalysis\n",
    "from sklearn.metrics import confusion_matrix,ConfusionMatrixDisplay\n",
    "from sklearn.metrics import accuracy_score\n",
    "\n",
    "#accuracy_score,roc_curve,classification_report\n",
    "m2 = 'Quadratic Discriminant Analysis'\n",
    "\n",
    "qda = qda = QuadraticDiscriminantAnalysis(store_covariance=True)\n",
    "qda_y_predicted = qda.fit(X_train, y_train).predict(X_test)\n",
    "\n",
    "\n",
    "# get the accuracy score\n",
    "qda_accuraccy_score = accuracy_score(y_test, qda_y_predicted)\n",
    "print(f'Accuracy of Quadratic Discriminant Analysis is {qda_accuraccy_score*100:.4f}%')\n",
    "\n",
    "# get the confusion matrix\n",
    "qda_conf_matrix = confusion_matrix(y_test, qda_y_predicted)\n",
    "disp = ConfusionMatrixDisplay(confusion_matrix=qda_conf_matrix,display_labels=qda.classes_)\n",
    "disp.plot()\n",
    "plt.show()\n"
   ]
  },
  {
   "cell_type": "markdown",
   "id": "925a6586-edd1-411d-8e0a-3739d5b09416",
   "metadata": {},
   "source": [
    "## 2.4 Decision Tree Classifier"
   ]
  },
  {
   "cell_type": "code",
   "execution_count": 30,
   "id": "026cad63-fd5d-46d5-835e-5f542c5bed89",
   "metadata": {},
   "outputs": [
    {
     "name": "stdout",
     "output_type": "stream",
     "text": [
      "Accuracy of DecisionTreeClassifier: 70.3704%\n"
     ]
    },
    {
     "data": {
      "image/png": "[encoded data removed]",
      "text/plain": [
       "<Figure size 432x288 with 2 Axes>"
      ]
     },
     "metadata": {
      "needs_background": "light"
     },
     "output_type": "display_data"
    }
   ],
   "source": [
    "from sklearn.tree import DecisionTreeClassifier\n",
    "\n",
    "m6 = 'DecisionTreeClassifier'\n",
    "dt = DecisionTreeClassifier(criterion = 'entropy',random_state=0,max_depth = 20)\n",
    "dt.fit(X_train, y_train)\n",
    "dt_y_predicted = dt.predict(X_test)\n",
    "\n",
    "\n",
    "# get the accuracy score\n",
    "dt_acc_score = accuracy_score(y_test, dt_y_predicted)\n",
    "print(f'Accuracy of DecisionTreeClassifier: {dt_acc_score*100:.4f}%')\n",
    "\n",
    "# confusion matrix\n",
    "dt_conf_matrix = confusion_matrix(y_test, dt_y_predicted)\n",
    "\n",
    "disp = ConfusionMatrixDisplay(confusion_matrix=dt_conf_matrix,display_labels=dt.classes_)\n",
    "disp.plot()\n",
    "plt.show()\n",
    "\n"
   ]
  },
  {
   "cell_type": "markdown",
   "id": "4bd15749-66ab-465f-a653-35bd10ce0a0c",
   "metadata": {},
   "source": [
    "## 2.5 Logistic Regression"
   ]
  },
  {
   "cell_type": "code",
   "execution_count": 31,
   "id": "6da912d7-5f4a-4e5a-8efb-21e06a1902e5",
   "metadata": {},
   "outputs": [
    {
     "name": "stderr",
     "output_type": "stream",
     "text": [
      "C:\\Users\\nibaf\\anaconda3\\lib\\site-packages\\sklearn\\linear_model\\_logistic.py:814: ConvergenceWarning: lbfgs failed to converge (status=1):\n",
      "STOP: TOTAL NO. of ITERATIONS REACHED LIMIT.\n",
      "\n",
      "Increase the number of iterations (max_iter) or scale the data as shown in:\n",
      "    https://scikit-learn.org/stable/modules/preprocessing.html\n",
      "Please also refer to the documentation for alternative solver options:\n",
      "    https://scikit-learn.org/stable/modules/linear_model.html#logistic-regression\n",
      "  n_iter_i = _check_optimize_result(\n"
     ]
    },
    {
     "name": "stdout",
     "output_type": "stream",
     "text": [
      "Accuracy of LogisticRegression: 89.6296%\n"
     ]
    },
    {
     "data": {
      "image/png": "[encoded data removed]",
      "text/plain": [
       "<Figure size 432x288 with 2 Axes>"
      ]
     },
     "metadata": {
      "needs_background": "light"
     },
     "output_type": "display_data"
    }
   ],
   "source": [
    "from sklearn.linear_model import LogisticRegression\n",
    "\n",
    "\n",
    "lr = LogisticRegression(random_state=0)\n",
    "lr.fit(X_train, y_train)\n",
    "lr_y_predicted = lr.predict(X_test)\n",
    "\n",
    "\n",
    "# get the accuracy score\n",
    "lr_acc_score = accuracy_score(y_test, lr_y_predicted)\n",
    "print(f'Accuracy of LogisticRegression: {lr_acc_score*100:.4f}%')\n",
    "\n",
    "# confusion matrix\n",
    "lr_conf_matrix = confusion_matrix(y_test, lr_y_predicted)\n",
    "\n",
    "disp = ConfusionMatrixDisplay(confusion_matrix=lr_conf_matrix,display_labels=lr.classes_)\n",
    "disp.plot()\n",
    "plt.show()\n"
   ]
  },
  {
   "cell_type": "markdown",
   "id": "cc018d30-1cb1-4509-a8d5-747d3eef5091",
   "metadata": {},
   "source": [
    "## 2.6 Random Forest"
   ]
  },
  {
   "cell_type": "code",
   "execution_count": 32,
   "id": "9fc17597-8643-4331-87bf-ef6b75f18e1c",
   "metadata": {
    "scrolled": true
   },
   "outputs": [
    {
     "name": "stdout",
     "output_type": "stream",
     "text": [
      "Accuracy of LogisticRegression: 91.8519%\n"
     ]
    },
    {
     "data": {
      "image/png": "[encoded data removed]",
      "text/plain": [
       "<Figure size 432x288 with 2 Axes>"
      ]
     },
     "metadata": {
      "needs_background": "light"
     },
     "output_type": "display_data"
    }
   ],
   "source": [
    "from sklearn.ensemble import RandomForestClassifier\n",
    "\n",
    "rfc = RandomForestClassifier(max_depth=50, random_state=0)\n",
    "rfc.fit(X_train, y_train)\n",
    "\n",
    "rfc_y_predicted = rfc.predict(X_test)\n",
    "\n",
    "\n",
    "# get the accuracy score\n",
    "rfc_acc_score = accuracy_score(y_test, rfc_y_predicted)\n",
    "print(f'Accuracy of LogisticRegression: {rfc_acc_score*100:.4f}%')\n",
    "\n",
    "# confusion matrix\n",
    "rfc_conf_matrix = confusion_matrix(y_test, rfc_y_predicted)\n",
    "\n",
    "disp = ConfusionMatrixDisplay(confusion_matrix=rfc_conf_matrix,display_labels=rfc.classes_)\n",
    "disp.plot()\n",
    "plt.show()"
   ]
  },
  {
   "cell_type": "code",
   "execution_count": 57,
   "id": "e46d1d85",
   "metadata": {},
   "outputs": [
    {
     "name": "stdout",
     "output_type": "stream",
     "text": [
      "[0.8571428571428571, 0.9473684210526315, 0.8823529411764706, 1.0, 0.9, 0.8235294117647058, 0.9285714285714286, 1.0, 0.9230769230769231]\n",
      "[1.0, 0.9166666666666666, 0.9411764705882353, 1.0, 1.0, 0.8571428571428571, 0.7, 0.875, 0.8333333333333334, 1.0, 1.0, 1.0, 1.0, 0.9166666666666666, 0.8333333333333334]\n"
     ]
    }
   ],
   "source": [
    "y_pred=rfc_y_predicted\n",
    "\n",
    "d=pd.DataFrame({'y':y,\"y2\":y2,\"ypred\":y_pred})\n",
    "tf=d.y==d.ypred\n",
    "lst=[]\n",
    "for i in range(9):\n",
    "\n",
    "    lst.append(d.loc[tf&(y2==i)].shape[0]/d.loc[y2==i].shape[0])\n",
    "print(lst)\n",
    "label_acc=[]\n",
    "for i in range(15):\n",
    "    label_acc.append(np.sum((y_pred[y_test==i]==y_test[y_test==i]))/len(y_test[y_test==i]))\n",
    "print(label_acc)\n",
    "dout1['rfc']=lst\n",
    "dout2['rfc']=label_acc"
   ]
  },
  {
   "cell_type": "markdown",
   "id": "ff14ce2b-a6c6-44d6-92ae-6ebdb86b82dd",
   "metadata": {},
   "source": [
    "## 2.7 Support Vector Machine"
   ]
  },
  {
   "cell_type": "code",
   "execution_count": 60,
   "id": "0d54665c-4349-4855-8368-71aca0ce154e",
   "metadata": {},
   "outputs": [
    {
     "name": "stdout",
     "output_type": "stream",
     "text": [
      "Accuracy of LogisticRegression: 95.5556%\n"
     ]
    },
    {
     "data": {
      "image/png": "[encoded data removed]",
      "text/plain": [
       "<Figure size 432x288 with 2 Axes>"
      ]
     },
     "metadata": {
      "needs_background": "light"
     },
     "output_type": "display_data"
    }
   ],
   "source": [
    "from sklearn.svm import SVC\n",
    "\n",
    "svm = SVC(kernel='rbf', C=3)\n",
    "svm.fit(X_train, y_train)\n",
    "\n",
    "svm_y_predicted = svm.predict(X_test)\n",
    "\n",
    "\n",
    "# get the accuracy score\n",
    "svm_acc_score = accuracy_score(y_test, svm_y_predicted)\n",
    "print(f'Accuracy of LogisticRegression: {svm_acc_score*100:.4f}%')\n",
    "\n",
    "# confusion matrix\n",
    "svm_conf_matrix = confusion_matrix(y_test, svm_y_predicted)\n",
    "\n",
    "disp = ConfusionMatrixDisplay(confusion_matrix=svm_conf_matrix,display_labels=svm.classes_)\n",
    "disp.plot()\n",
    "plt.show()"
   ]
  },
  {
   "cell_type": "code",
   "execution_count": 61,
   "id": "88995ba1",
   "metadata": {},
   "outputs": [
    {
     "name": "stdout",
     "output_type": "stream",
     "text": [
      "[0.8571428571428571, 1.0, 0.8823529411764706, 1.0, 1.0, 0.8823529411764706, 1.0, 1.0, 1.0]\n",
      "[1.0, 0.8333333333333334, 1.0, 1.0, 1.0, 1.0, 0.8, 1.0, 0.8333333333333334, 1.0, 1.0, 0.8333333333333334, 1.0, 1.0, 1.0]\n"
     ]
    }
   ],
   "source": [
    "y_pred=svm_y_predicted\n",
    "\n",
    "d=pd.DataFrame({'y':y,\"y2\":y2,\"ypred\":y_pred})\n",
    "tf=d.y==d.ypred\n",
    "lst=[]\n",
    "for i in range(9):\n",
    "\n",
    "    lst.append(d.loc[tf&(y2==i)].shape[0]/d.loc[y2==i].shape[0])\n",
    "print(lst)\n",
    "label_acc=[]\n",
    "for i in range(15):\n",
    "    label_acc.append(np.sum((y_pred[y_test==i]==y_test[y_test==i]))/len(y_test[y_test==i]))\n",
    "print(label_acc)"
   ]
  },
  {
   "cell_type": "code",
   "execution_count": 62,
   "id": "6ab68d54",
   "metadata": {},
   "outputs": [],
   "source": [
    "dout1['svm']=lst\n",
    "dout2['svm']=label_acc"
   ]
  },
  {
   "cell_type": "code",
   "execution_count": 73,
   "id": "7159b4f6",
   "metadata": {
    "scrolled": true
   },
   "outputs": [],
   "source": [
    "\n",
    "dout1.round(decimals=2).to_csv('dout1.csv',index=True)"
   ]
  },
  {
   "cell_type": "code",
   "execution_count": 74,
   "id": "d07622d9",
   "metadata": {},
   "outputs": [],
   "source": [
    "dout2.round(decimals=2).to_csv('dout2.csv',index=True)"
   ]
  },
  {
   "cell_type": "markdown",
   "id": "f4022362-f87e-414a-95aa-3e1572f63f7a",
   "metadata": {},
   "source": [
    "## 2.8 Naive Bayes"
   ]
  },
  {
   "cell_type": "code",
   "execution_count": 36,
   "id": "4d7a560d-3631-4c36-97dd-829673778dea",
   "metadata": {},
   "outputs": [
    {
     "name": "stdout",
     "output_type": "stream",
     "text": [
      "Accuracy of LogisticRegression: 61.4815%\n"
     ]
    },
    {
     "data": {
      "image/png": "[encoded data removed]",
      "text/plain": [
       "<Figure size 432x288 with 2 Axes>"
      ]
     },
     "metadata": {
      "needs_background": "light"
     },
     "output_type": "display_data"
    }
   ],
   "source": [
    "from sklearn.naive_bayes import GaussianNB\n",
    "\n",
    "nb = GaussianNB()\n",
    "nb.fit(X_train,y_train)\n",
    "nb_y_predicted = nb.predict(X_test)\n",
    "\n",
    "nb_conf_matrix = confusion_matrix(y_test, nb_y_predicted)\n",
    "nb_acc_score = accuracy_score(y_test, nb_y_predicted)\n",
    "\n",
    "\n",
    "print(f'Accuracy of LogisticRegression: {nb_acc_score*100:.4f}%')\n",
    "\n",
    "# confusion matrix\n",
    "nb_conf_matrix = confusion_matrix(y_test, nb_y_predicted)\n",
    "\n",
    "disp = ConfusionMatrixDisplay(confusion_matrix=nb_conf_matrix,display_labels=nb.classes_)\n",
    "disp.plot()\n",
    "plt.show()"
   ]
  },
  {
   "cell_type": "markdown",
   "id": "8803fb48-77ac-4131-8cb0-3f222641fd0e",
   "metadata": {},
   "source": [
    "## 2.9 Reciver Operating Characterstic Curve\n",
    "\n",
    "Plot the reciever operating curve (True Positive Rate vs False Positve Rate ) for each method"
   ]
  },
  {
   "cell_type": "code",
   "execution_count": null,
   "id": "e5db9891-9f40-418d-9ecc-4ab94b92ea05",
   "metadata": {},
   "outputs": [],
   "source": [
    "from sklearn.metrics import roc_curve\n",
    "\n",
    "\n",
    "\n",
    "lda_predicted_probability_of_positive = lda.predict_proba(X_test)[:,1]\n",
    "qda_predicted_probability_of_positive = qda.predict_proba(X_test)[:,1]\n",
    "dt_predicted_probability_of_positive = dt.predict_proba(X_test)[:,1]\n",
    "lr_predicted_probability_of_positive = lr.predict_proba(X_test)[:,1]\n",
    "rfc_predicted_probability_of_positive = rfc.predict_proba(X_test)[:,1]\n",
    "svm_predicted_decision_function = svm.decision_function(X_test)\n",
    "nb_predicted_probability_of_positive = nb.predict_proba(X_test)[:,1]\n",
    "\n",
    "\n",
    "lda_false_positive_rate,lda_true_positive_rate,lda_threshold = roc_curve(y_test,lda_predicted_probability_of_positive)\n",
    "qda_false_positive_rate,qda_true_positive_rate,qda_threshold = roc_curve(y_test,qda_predicted_probability_of_positive)\n",
    "dt_false_positive_rate,dt_true_positive_rate,dt_threshold = roc_curve(y_test,dt_predicted_probability_of_positive)\n",
    "lr_false_positive_rate,lr_true_positive_rate,lr_threshold = roc_curve(y_test,lr_predicted_probability_of_positive)\n",
    "rfc_false_positive_rate,rfc_true_positive_rate,rfc_threshold = roc_curve(y_test,rfc_predicted_probability_of_positive)\n",
    "svm_false_positive_rate,svm_true_positive_rate,svm_threshold = roc_curve(y_test,svm_predicted_decision_function)\n",
    "nb_false_positive_rate,nb_true_positive_rate,nb_threshold = roc_curve(y_test,nb_predicted_probability_of_positive)\n",
    "\n",
    "\n",
    "#sns.set_style('whitegrid')\n",
    "plt.figure(figsize=(10,5))\n",
    "plt.title('Reciver Operating Characterstic Curve')\n",
    "plt.plot(lda_false_positive_rate,lda_true_positive_rate,label='Linear Discriminant Analysis')\n",
    "plt.plot(qda_false_positive_rate,qda_true_positive_rate,label='Quadratic Discriminant Analysis')\n",
    "plt.plot(dt_false_positive_rate,dt_true_positive_rate,label='Decesion Tree')\n",
    "plt.plot(lr_false_positive_rate,lr_true_positive_rate,label='Logistic Regression')\n",
    "plt.plot(rfc_false_positive_rate,rfc_true_positive_rate,label='Random Forest')\n",
    "plt.plot(svm_false_positive_rate,svm_true_positive_rate,label='SVM')\n",
    "plt.plot(nb_false_positive_rate,nb_true_positive_rate,label='Naive Bayes')\n",
    "\n",
    "\n",
    "plt.plot([0,1],ls='--')\n",
    "plt.plot([0,0],[1,0],c='.5')\n",
    "plt.plot([1,1],c='.5')\n",
    "plt.ylabel('True positive rate')\n",
    "plt.xlabel('False positive rate')\n",
    "plt.legend()\n",
    "plt.show()"
   ]
  },
  {
   "cell_type": "code",
   "execution_count": null,
   "id": "325e77d8-5b0f-4b5a-9aa4-c3b317e585be",
   "metadata": {},
   "outputs": [],
   "source": []
  }
 ],
 "metadata": {
  "kernelspec": {
   "display_name": "Python 3 (ipykernel)",
   "language": "python",
   "name": "python3"
  },
  "language_info": {
   "codemirror_mode": {
    "name": "ipython",
    "version": 3
   },
   "file_extension": ".py",
   "mimetype": "text/x-python",
   "name": "python",
   "nbconvert_exporter": "python",
   "pygments_lexer": "ipython3",
   "version": "3.9.12"
  },
  "vscode": {
   "interpreter": {
    "hash": "971b1284ca1316a68d9a039309cd63ff9792b8ab259dec4fc90b1b64d5176fc4"
   }
  }
 },
 "nbformat": 4,
 "nbformat_minor": 5
}
