{
 "cells": [
  {
   "cell_type": "code",
   "execution_count": 85,
   "id": "3a1a252e-2794-4347-99b5-6546f909002f",
   "metadata": {},
   "outputs": [
    {
     "data": {
      "text/plain": [
       "'E:\\\\OneDrive - Johns Hopkins\\\\ML&Music-Yifan\\\\dan'"
      ]
     },
     "execution_count": 85,
     "metadata": {},
     "output_type": "execute_result"
    }
   ],
   "source": [
    "import os\n",
    "os.getcwd()"
   ]
  },
  {
   "cell_type": "code",
   "execution_count": 89,
   "id": "88f30d77-077a-43c2-b141-8debe2f5b694",
   "metadata": {
    "scrolled": true
   },
   "outputs": [
    {
     "name": "stdout",
     "output_type": "stream",
     "text": [
      "snippets2//snippet_Amitabh003.wav\n",
      "44100\n",
      "(54298,)\n"
     ]
    }
   ],
   "source": [
    "from scipy import signal\n",
    "from scipy.fft import fftshift\n",
    "import matplotlib.pyplot as plt\n",
    "import numpy as np\n",
    "import pandas as pd\n",
    "import soundfile as sf\n",
    "import os\n",
    "import re\n",
    "from IPython.display import Audio\n",
    "rng = np.random.default_rng()\n",
    "\n",
    "wavefile_folder=\"snippets2//\"\n",
    "L=os.listdir(wavefile_folder)\n",
    "L=[x for x in L if re.search(\"wav\",x)]\n",
    "#print(L)\n",
    "\n",
    "fileid=wavefile_folder+L[3]\n",
    "print(fileid)\n",
    "x,samplerate=sf.read(fileid)\n",
    "print(samplerate)\n",
    "print(x.shape)\n",
    "\n",
    "#Audio(x[int(44100*2.78):int(44100*2.82)],rate=samplerate)\n",
    "#Audio(x[int(44100*1.2):int(44100*2.2)],rate=samplerate)\n",
    "#Audio(x[int(44100*1):int(44100*4)],rate=samplerate)\n",
    "#plt.plot(x[int(44100*0):int(44100*4)])"
   ]
  },
  {
   "cell_type": "code",
   "execution_count": 90,
   "id": "68ecb8f6-ee46-45fc-9ac9-bb19d261a99b",
   "metadata": {},
   "outputs": [
    {
     "data": {
      "text/plain": [
       "[<matplotlib.lines.Line2D at 0x1ef64152a30>]"
      ]
     },
     "execution_count": 90,
     "metadata": {},
     "output_type": "execute_result"
    },
    {
     "data": {
      "image/png": "[encoded data removed]",
      "text/plain": [
       "<Figure size 432x288 with 1 Axes>"
      ]
     },
     "metadata": {
      "needs_background": "light"
     },
     "output_type": "display_data"
    }
   ],
   "source": [
    "plt.plot(x)"
   ]
  },
  {
   "cell_type": "code",
   "execution_count": 104,
   "id": "d0a58ed8",
   "metadata": {},
   "outputs": [
    {
     "name": "stdout",
     "output_type": "stream",
     "text": [
      "3.0517578125e-05\n"
     ]
    },
    {
     "data": {
      "text/plain": [
       "0.05   -6.590545\n",
       "0.10   -5.843331\n",
       "0.15   -5.373327\n",
       "0.20   -4.954790\n",
       "0.25   -4.589065\n",
       "0.30   -4.259481\n",
       "0.35   -3.940438\n",
       "0.40   -3.673616\n",
       "0.45   -3.454085\n",
       "0.50   -3.227858\n",
       "0.55   -3.011977\n",
       "0.60   -2.793709\n",
       "0.65   -2.576768\n",
       "0.70   -2.367449\n",
       "0.75   -2.164236\n",
       "0.80   -1.948807\n",
       "0.85   -1.706826\n",
       "0.90   -1.429206\n",
       "0.95   -1.054397\n",
       "dtype: float64"
      ]
     },
     "execution_count": 104,
     "metadata": {},
     "output_type": "execute_result"
    },
    {
     "data": {
      "image/png": "[encoded data removed]",
      "text/plain": [
       "<Figure size 432x288 with 1 Axes>"
      ]
     },
     "metadata": {
      "needs_background": "light"
     },
     "output_type": "display_data"
    }
   ],
   "source": [
    "xabs=np.abs(x)\n",
    "xabsposmin=np.min(xabs[xabs>0])\n",
    "print(xabsposmin)\n",
    "pd.Series(np.log(xabsposmin+np.abs(x))).hist(bins=200)\n",
    "y=np.log(xabsposmin+np.abs(x))\n",
    "pd.Series(y).quantile([i/20 for i in range(1,20)])"
   ]
  },
  {
   "cell_type": "code",
   "execution_count": 20,
   "id": "2ae8f9f1",
   "metadata": {},
   "outputs": [
    {
     "name": "stdout",
     "output_type": "stream",
     "text": [
      "0.000335693359375\n",
      "-0.0101776123046875\n",
      "0.033294677734375\n"
     ]
    }
   ],
   "source": [
    "#Should we also get the percentile& mean of the actual amplitude percentile?\n",
    "print(np.percentile(x,50))\n",
    "print(np.percentile(x,25))\n",
    "print(np.percentile(x,75))"
   ]
  },
  {
   "cell_type": "code",
   "execution_count": 22,
   "id": "e83e1bdc",
   "metadata": {},
   "outputs": [
    {
     "name": "stdout",
     "output_type": "stream",
     "text": [
      "0.000276281652102323\n",
      "0.015328659833323982\n"
     ]
    }
   ],
   "source": [
    "print(np.mean(x))\n",
    "print(np.var(x))"
   ]
  },
  {
   "cell_type": "code",
   "execution_count": 34,
   "id": "54469906",
   "metadata": {
    "scrolled": true
   },
   "outputs": [],
   "source": [
    "#window averaging\n",
    "wsize=int(len(x)/100) # get the same N window each clip\n",
    "wsize2=int(len(x)/1000)"
   ]
  },
  {
   "cell_type": "code",
   "execution_count": 35,
   "id": "c2a89264",
   "metadata": {},
   "outputs": [],
   "source": [
    "def runningMean(x, N):\n",
    "    y = np.zeros((len(x),))\n",
    "    for ctr in range(len(x)):\n",
    "         y[ctr] = np.sum(x[ctr:(ctr+N)])\n",
    "    return y/N"
   ]
  },
  {
   "cell_type": "code",
   "execution_count": 109,
   "id": "40b668a3-9723-4cdc-80c2-1430db02a8ab",
   "metadata": {},
   "outputs": [
    {
     "name": "stdout",
     "output_type": "stream",
     "text": [
      "2714\n"
     ]
    },
    {
     "data": {
      "text/plain": [
       "<AxesSubplot:>"
      ]
     },
     "execution_count": 109,
     "metadata": {},
     "output_type": "execute_result"
    },
    {
     "data": {
      "image/png": "[encoded data removed]",
      "text/plain": [
       "<Figure size 432x288 with 1 Axes>"
      ]
     },
     "metadata": {
      "needs_background": "light"
     },
     "output_type": "display_data"
    }
   ],
   "source": [
    "winsize=int(len(x)/20)\n",
    "print(winsize)\n",
    "pd.Series(x).abs().rolling(winsize).mean().plot()"
   ]
  },
  {
   "cell_type": "code",
   "execution_count": 33,
   "id": "92826a39",
   "metadata": {
    "scrolled": true
   },
   "outputs": [
    {
     "data": {
      "text/plain": [
       "[<matplotlib.lines.Line2D at 0x245fe449760>]"
      ]
     },
     "execution_count": 33,
     "metadata": {},
     "output_type": "execute_result"
    },
    {
     "data": {
      "image/png": "[encoded data removed]",
      "text/plain": [
       "<Figure size 432x288 with 1 Axes>"
      ]
     },
     "metadata": {
      "needs_background": "light"
     },
     "output_type": "display_data"
    }
   ],
   "source": [
    "run_ave=runningMean(x,wsize)\n",
    "plt.plot(run_ave)"
   ]
  },
  {
   "cell_type": "code",
   "execution_count": 36,
   "id": "cbb5a438",
   "metadata": {},
   "outputs": [
    {
     "data": {
      "text/plain": [
       "[<matplotlib.lines.Line2D at 0x245fe490e20>]"
      ]
     },
     "execution_count": 36,
     "metadata": {},
     "output_type": "execute_result"
    },
    {
     "data": {
      "image/png": "[encoded data removed]",
      "text/plain": [
       "<Figure size 432x288 with 1 Axes>"
      ]
     },
     "metadata": {
      "needs_background": "light"
     },
     "output_type": "display_data"
    }
   ],
   "source": [
    "run_ave=runningMean(x,wsize2)\n",
    "plt.plot(run_ave)"
   ]
  },
  {
   "cell_type": "code",
   "execution_count": 81,
   "id": "f1485330-5306-4a11-a971-f46900acdd9b",
   "metadata": {},
   "outputs": [
    {
     "name": "stdout",
     "output_type": "stream",
     "text": [
      "['Amitabh.wav', 'DanAlphabet.wav', 'DanGa.wav', 'Dong.wav', 'Drew.wav', 'Eleanor.wav', 'Hamilton.wav', 'Ian.wav', 'Kaiwen.wav', 'Kate.wav', 'Kelsey.wav', 'Ningbo.wav', 'Philip.wav', 'Seehee.wav', 'Zachary.wav']\n",
      "../VoiceRecordings_3_6_23_danedited/Amitabh.wav\n",
      "mindur_indices = 22050\n",
      "wdur_indices= 11025\n",
      "../VoiceRecordings_3_6_23_danedited/DanAlphabet.wav\n",
      "mindur_indices = 22050\n",
      "wdur_indices= 11025\n",
      "../VoiceRecordings_3_6_23_danedited/DanGa.wav\n",
      "mindur_indices = 22050\n",
      "wdur_indices= 11025\n",
      "../VoiceRecordings_3_6_23_danedited/Dong.wav\n",
      "mindur_indices = 22050\n",
      "wdur_indices= 11025\n",
      "../VoiceRecordings_3_6_23_danedited/Drew.wav\n",
      "mindur_indices = 22050\n",
      "wdur_indices= 11025\n",
      "../VoiceRecordings_3_6_23_danedited/Eleanor.wav\n",
      "mindur_indices = 22050\n",
      "wdur_indices= 11025\n",
      "../VoiceRecordings_3_6_23_danedited/Hamilton.wav\n",
      "mindur_indices = 22050\n",
      "wdur_indices= 11025\n",
      "../VoiceRecordings_3_6_23_danedited/Ian.wav\n",
      "mindur_indices = 22050\n",
      "wdur_indices= 11025\n",
      "../VoiceRecordings_3_6_23_danedited/Kaiwen.wav\n",
      "mindur_indices = 22050\n",
      "wdur_indices= 11025\n",
      "../VoiceRecordings_3_6_23_danedited/Kate.wav\n",
      "mindur_indices = 22050\n",
      "wdur_indices= 11025\n",
      "../VoiceRecordings_3_6_23_danedited/Kelsey.wav\n",
      "mindur_indices = 22050\n",
      "wdur_indices= 11025\n",
      "../VoiceRecordings_3_6_23_danedited/Ningbo.wav\n",
      "mindur_indices = 22050\n",
      "wdur_indices= 11025\n",
      "../VoiceRecordings_3_6_23_danedited/Philip.wav\n",
      "mindur_indices = 22050\n",
      "wdur_indices= 11025\n",
      "../VoiceRecordings_3_6_23_danedited/Seehee.wav\n",
      "mindur_indices = 22050\n",
      "wdur_indices= 11025\n",
      "../VoiceRecordings_3_6_23_danedited/Zachary.wav\n",
      "mindur_indices = 22050\n",
      "wdur_indices= 11025\n"
     ]
    }
   ],
   "source": [
    "from scipy import signal\n",
    "from scipy.fft import fftshift\n",
    "import matplotlib.pyplot as plt\n",
    "import numpy as np\n",
    "import pandas as pd\n",
    "import soundfile as sf\n",
    "import os\n",
    "import re\n",
    "from IPython.display import Audio\n",
    "#\n",
    "# Given a signal x break it up into segments where we think the speaker \n",
    "# is speaking.\n",
    "#\n",
    "# First, take absolute value and normalize by dividing max value\n",
    "#\n",
    "# Repeat the following  \n",
    "#\n",
    "#     1) start interval at first value that is above initial_threshold\n",
    "#     2) end interval at the first value starts at a window of duration wdur seconds\n",
    "#        has its max below the kill threshold\n",
    "#\n",
    "# Remove all intervals whose duration is less than mindur seconds\n",
    "#\n",
    "def find_gaps(x,mindur,wdur, initial_threshold, kill_threshold):\n",
    "    #\n",
    "    # compute number of indices for mindur and wsecs\n",
    "    #\n",
    "    mindur_indices=int(mindur*44100)\n",
    "    wdur_indices=int(wdur*44100)\n",
    "    #\n",
    "    #\n",
    "    #\n",
    "    print(\"mindur_indices = \"+str(mindur_indices))\n",
    "    print(\"wdur_indices= \"+str(wdur_indices))\n",
    "#     print(\"xlength = \"+str(len(x)))\n",
    "    \n",
    "    #\n",
    "    # normalize the signal\n",
    "    #\n",
    "    x=np.abs(x)\n",
    "    M=np.max(x)\n",
    "    x=x/M\n",
    "    xt=x>=initial_threshold\n",
    "    # print(\"number of x's above threshold =\"+str(xt.sum()))\n",
    "    #\n",
    "    # compute indicator of max in windows below threshold\n",
    "    #\n",
    "    y=pd.Series(x).rolling(wdur_indices).max()\n",
    "    y.to_csv(\"y.csv\")\n",
    "    #\n",
    "    # remove the initial na's and find whose maximum is below threshold\n",
    "    #\n",
    "    y=np.array(y.iloc[wdur_indices-1:]<kill_threshold)\n",
    "    #print(\"sum of y = \"+str(np.sum(y)))\n",
    "    pd.DataFrame({\"xt\":xt[0:len(y)],\"y\":y}).to_csv(\"out.csv\")\n",
    "    # print(y)\n",
    "    # print(\"ylength = \"+str(len(y)))\n",
    "    # #\n",
    "    # find next interval starting at position pos\n",
    "    #\n",
    "    def find_next_interval(x,y,pos,Nx,Ny):\n",
    "        # print(\"in find next interval sum of x's \"+str(x.sum()))\n",
    "        # print(x)\n",
    "        flag=False\n",
    "        for i in range(pos,Nx):\n",
    "            #print(x[i])\n",
    "            if x[i]:\n",
    "                flag=True\n",
    "                break\n",
    "        if not flag:\n",
    "            return(None)\n",
    "        start=i\n",
    "        for i in range(start+1,Ny):\n",
    "            if y[i]:\n",
    "                end=i\n",
    "                return((start,end))\n",
    "        return((start,Nx))\n",
    "    pos=0\n",
    "    Nx=len(xt)\n",
    "    Ny=len(y)\n",
    "    L=[]\n",
    "    while True:\n",
    "        res=find_next_interval(xt,y,pos,Nx,Ny)\n",
    "        if not res:\n",
    "            return(L)\n",
    "        pos=res[1]\n",
    "        #print(res)\n",
    "        #print(res[0]/44100,res[1]/44100)\n",
    "        if res[1]-res[0]>=mindur_indices:\n",
    "            L.append(res)\n",
    "            #print(res[0]/44100,res[1]/44100)\n",
    "    return(L)\n",
    "\n",
    "wavefile_folder=\"../VoiceRecordings_3_6_23_danedited/\"\n",
    "L=os.listdir(wavefile_folder)\n",
    "L=[x for x in L if re.search(\"wav\",x)]\n",
    "print(L)\n",
    "\n",
    "def numb_to_string(n):\n",
    "    if n<10:\n",
    "        return(\"00\"+str(n))\n",
    "    if n<100:\n",
    "        return(\"0\"+str(n))\n",
    "\n",
    "\n",
    "for x in L:\n",
    "    fileid=wavefile_folder+x\n",
    "    print(fileid)\n",
    "    name=x.replace(\".wav\",\"\")\n",
    "    x,samplerate=sf.read(fileid)\n",
    "    gaps=find_gaps(x,mindur=.5,wdur=.25,initial_threshold=.1,kill_threshold=.01)\n",
    "    ctr=0\n",
    "    for g in gaps:\n",
    "        snippet=x[g[0]:g[1]]\n",
    "        sf.write(\"snippets2//snippet_\"+name+numb_to_string(ctr)+\".wav\",snippet,samplerate=44100)\n",
    "        ctr+=1"
   ]
  },
  {
   "cell_type": "code",
   "execution_count": 76,
   "id": "d0663dd0-46a4-4bf7-948a-6a5237c22928",
   "metadata": {},
   "outputs": [],
   "source": [
    "sf.write(\"snippet.wav\",snippet,samplerate=44100)"
   ]
  },
  {
   "cell_type": "code",
   "execution_count": 75,
   "id": "c906916c-1358-4ac4-bb4d-6b6eda6515e2",
   "metadata": {},
   "outputs": [
    {
     "name": "stdout",
     "output_type": "stream",
     "text": [
      "Help on function write in module soundfile:\n",
      "\n",
      "write(file, data, samplerate, subtype=None, endian=None, format=None, closefd=True)\n",
      "    Write data to a sound file.\n",
      "    \n",
      "    .. note:: If `file` exists, it will be truncated and overwritten!\n",
      "    \n",
      "    Parameters\n",
      "    ----------\n",
      "    file : str or int or file-like object\n",
      "        The file to write to.  See :class:`SoundFile` for details.\n",
      "    data : array_like\n",
      "        The data to write.  Usually two-dimensional (frames x channels),\n",
      "        but one-dimensional `data` can be used for mono files.\n",
      "        Only the data types ``'float64'``, ``'float32'``, ``'int32'``\n",
      "        and ``'int16'`` are supported.\n",
      "    \n",
      "        .. note:: The data type of `data` does **not** select the data\n",
      "                  type of the written file. Audio data will be\n",
      "                  converted to the given `subtype`. Writing int values\n",
      "                  to a float file will *not* scale the values to\n",
      "                  [-1.0, 1.0). If you write the value ``np.array([42],\n",
      "                  dtype='int32')``, to a ``subtype='FLOAT'`` file, the\n",
      "                  file will then contain ``np.array([42.],\n",
      "                  dtype='float32')``.\n",
      "    \n",
      "    samplerate : int\n",
      "        The sample rate of the audio data.\n",
      "    subtype : str, optional\n",
      "        See :func:`default_subtype` for the default value and\n",
      "        :func:`available_subtypes` for all possible values.\n",
      "    \n",
      "    Other Parameters\n",
      "    ----------------\n",
      "    format, endian, closefd\n",
      "        See :class:`SoundFile`.\n",
      "    \n",
      "    Examples\n",
      "    --------\n",
      "    Write 10 frames of random data to a new file:\n",
      "    \n",
      "    >>> import numpy as np\n",
      "    >>> import soundfile as sf\n",
      "    >>> sf.write('stereo_file.wav', np.random.randn(10, 2), 44100, 'PCM_24')\n",
      "\n"
     ]
    }
   ],
   "source": [
    "help(sf.write)"
   ]
  },
  {
   "cell_type": "code",
   "execution_count": null,
   "id": "dbde49ed-e049-4d8d-9058-9d6d6ccd431c",
   "metadata": {},
   "outputs": [],
   "source": [
    "\n"
   ]
  }
 ],
 "metadata": {
  "kernelspec": {
   "display_name": "Python 3 (ipykernel)",
   "language": "python",
   "name": "python3"
  },
  "language_info": {
   "codemirror_mode": {
    "name": "ipython",
    "version": 3
   },
   "file_extension": ".py",
   "mimetype": "text/x-python",
   "name": "python",
   "nbconvert_exporter": "python",
   "pygments_lexer": "ipython3",
   "version": "3.9.12"
  }
 },
 "nbformat": 4,
 "nbformat_minor": 5
}
